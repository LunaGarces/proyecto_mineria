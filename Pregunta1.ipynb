{
 "cells": [
  {
   "cell_type": "markdown",
   "id": "6d14f131",
   "metadata": {},
   "source": [
    "# Librerias"
   ]
  },
  {
   "cell_type": "code",
   "execution_count": 111,
   "id": "9e3983d1",
   "metadata": {},
   "outputs": [],
   "source": [
    "import pandas as pd\n",
    "from mlxtend.frequent_patterns import apriori, association_rules\n",
    "from mlxtend.preprocessing import TransactionEncoder"
   ]
  },
  {
   "cell_type": "markdown",
   "id": "776fffce",
   "metadata": {},
   "source": [
    "# Archivo"
   ]
  },
  {
   "cell_type": "code",
   "execution_count": 112,
   "id": "2fd5fe2a",
   "metadata": {},
   "outputs": [
    {
     "name": "stderr",
     "output_type": "stream",
     "text": [
      "<>:2: DeprecationWarning: invalid escape sequence '\\m'\n",
      "<>:2: DeprecationWarning: invalid escape sequence '\\m'\n",
      "C:\\Users\\tomas\\AppData\\Local\\Temp\\ipykernel_19396\\548903745.py:2: DeprecationWarning: invalid escape sequence '\\m'\n",
      "  mbr = pd.read_csv('archivos_limpios\\mbr.csv')\n"
     ]
    }
   ],
   "source": [
    "# Abrir archivos CSV\n",
    "mbr = pd.read_csv('archivos_limpios\\mbr.csv')"
   ]
  },
  {
   "cell_type": "markdown",
   "id": "40dd57bb",
   "metadata": {},
   "source": [
    "#### Crear columnas"
   ]
  },
  {
   "cell_type": "code",
   "execution_count": 113,
   "id": "09c9dbef",
   "metadata": {},
   "outputs": [],
   "source": [
    "# app\n",
    "# si aparece \".com.\" nos llevamos lo que viene justo después\n",
    "pat  = r'(?:^|\\.)com\\.([^.]+)'          \n",
    "app_main = mbr['app_package'].str.extract(pat, expand=False)\n",
    "\n",
    "# si no hay \".com.\" nos quedamos con la segunda parte de app_package\n",
    "fallback = mbr['app_package'].str.split('.').str.get(1)\n",
    "\n",
    "mbr['app'] = app_main.fillna(fallback)"
   ]
  },
  {
   "cell_type": "code",
   "execution_count": 114,
   "id": "d0d98518",
   "metadata": {},
   "outputs": [],
   "source": [
    "# semanal\n",
    "mbr[\"week\"] = pd.to_datetime(mbr[\"formated_date\"]).dt.to_period(\"W\")"
   ]
  },
  {
   "cell_type": "code",
   "execution_count": 115,
   "id": "485901ce",
   "metadata": {},
   "outputs": [],
   "source": [
    "# Mes\n",
    "mbr['date'] = pd.to_datetime(mbr['formated_date'])\n",
    "mbr['month'] = mbr['date'].dt.to_period('M')   # ej. 2023-07"
   ]
  },
  {
   "cell_type": "code",
   "execution_count": 116,
   "id": "36d7a563",
   "metadata": {},
   "outputs": [],
   "source": [
    "# 1. Lista de palabras “basura” que no son apps reales\n",
    "junk = {'app', 'co', 'com'}           # agrega más si hace falta\n",
    "\n",
    "# 2. Filtra esas filas antes de crear las cestas mensuales\n",
    "mbr = mbr[~mbr['app'].isin(junk)].copy()\n",
    "\n",
    "# 3. Vuelve a construir baskets_m y correr Apriori como antes\n",
    "#    (todo el pipeline se mantiene igual)"
   ]
  },
  {
   "cell_type": "markdown",
   "id": "076ba55e",
   "metadata": {},
   "source": [
    "#### Info archivo"
   ]
  },
  {
   "cell_type": "code",
   "execution_count": 117,
   "id": "d414eb2d",
   "metadata": {},
   "outputs": [
    {
     "data": {
      "text/html": [
       "<div>\n",
       "<style scoped>\n",
       "    .dataframe tbody tr th:only-of-type {\n",
       "        vertical-align: middle;\n",
       "    }\n",
       "\n",
       "    .dataframe tbody tr th {\n",
       "        vertical-align: top;\n",
       "    }\n",
       "\n",
       "    .dataframe thead th {\n",
       "        text-align: right;\n",
       "    }\n",
       "</style>\n",
       "<table border=\"1\" class=\"dataframe\">\n",
       "  <thead>\n",
       "    <tr style=\"text-align: right;\">\n",
       "      <th></th>\n",
       "      <th>app_package</th>\n",
       "      <th>review</th>\n",
       "      <th>rating</th>\n",
       "      <th>votes</th>\n",
       "      <th>uid</th>\n",
       "      <th>formated_date</th>\n",
       "      <th>app_category</th>\n",
       "      <th>app</th>\n",
       "      <th>week</th>\n",
       "      <th>date</th>\n",
       "      <th>month</th>\n",
       "    </tr>\n",
       "  </thead>\n",
       "  <tbody>\n",
       "    <tr>\n",
       "      <th>0</th>\n",
       "      <td>com.cleverapps.heroes</td>\n",
       "      <td>It's really a fun game</td>\n",
       "      <td>5</td>\n",
       "      <td>1</td>\n",
       "      <td>shqoc6X1fcJRLEmx</td>\n",
       "      <td>2018-10-21</td>\n",
       "      <td>Casual</td>\n",
       "      <td>cleverapps</td>\n",
       "      <td>2018-10-15/2018-10-21</td>\n",
       "      <td>2018-10-21</td>\n",
       "      <td>2018-10</td>\n",
       "    </tr>\n",
       "    <tr>\n",
       "      <th>1</th>\n",
       "      <td>com.bodyfast</td>\n",
       "      <td>uninstalling. it was ok but felt like it was c...</td>\n",
       "      <td>2</td>\n",
       "      <td>0</td>\n",
       "      <td>shqoc6X1fcJRLEmx</td>\n",
       "      <td>2019-01-18</td>\n",
       "      <td>Health &amp; Fitness</td>\n",
       "      <td>bodyfast</td>\n",
       "      <td>2019-01-14/2019-01-20</td>\n",
       "      <td>2019-01-18</td>\n",
       "      <td>2019-01</td>\n",
       "    </tr>\n",
       "    <tr>\n",
       "      <th>2</th>\n",
       "      <td>com.thrivegames.wordshapes</td>\n",
       "      <td>Love this game</td>\n",
       "      <td>4</td>\n",
       "      <td>1</td>\n",
       "      <td>shqoc6X1fcJRLEmx</td>\n",
       "      <td>2021-01-16</td>\n",
       "      <td>Word</td>\n",
       "      <td>thrivegames</td>\n",
       "      <td>2021-01-11/2021-01-17</td>\n",
       "      <td>2021-01-16</td>\n",
       "      <td>2021-01</td>\n",
       "    </tr>\n",
       "    <tr>\n",
       "      <th>3</th>\n",
       "      <td>com.affinity.rewarded_play</td>\n",
       "      <td>Doesn't update play time. Just downloaded it 3...</td>\n",
       "      <td>1</td>\n",
       "      <td>1</td>\n",
       "      <td>shqoc6X1fcJRLEmx</td>\n",
       "      <td>2021-11-04</td>\n",
       "      <td>Entertainment</td>\n",
       "      <td>affinity</td>\n",
       "      <td>2021-11-01/2021-11-07</td>\n",
       "      <td>2021-11-04</td>\n",
       "      <td>2021-11</td>\n",
       "    </tr>\n",
       "    <tr>\n",
       "      <th>4</th>\n",
       "      <td>dating.inmessage.net</td>\n",
       "      <td>app crashes every time I try to log in. what g...</td>\n",
       "      <td>1</td>\n",
       "      <td>0</td>\n",
       "      <td>shqoc6X1fcJRLEmx</td>\n",
       "      <td>2021-11-24</td>\n",
       "      <td>Dating</td>\n",
       "      <td>inmessage</td>\n",
       "      <td>2021-11-22/2021-11-28</td>\n",
       "      <td>2021-11-24</td>\n",
       "      <td>2021-11</td>\n",
       "    </tr>\n",
       "  </tbody>\n",
       "</table>\n",
       "</div>"
      ],
      "text/plain": [
       "                  app_package  \\\n",
       "0       com.cleverapps.heroes   \n",
       "1                com.bodyfast   \n",
       "2  com.thrivegames.wordshapes   \n",
       "3  com.affinity.rewarded_play   \n",
       "4        dating.inmessage.net   \n",
       "\n",
       "                                              review  rating  votes  \\\n",
       "0                             It's really a fun game       5      1   \n",
       "1  uninstalling. it was ok but felt like it was c...       2      0   \n",
       "2                                     Love this game       4      1   \n",
       "3  Doesn't update play time. Just downloaded it 3...       1      1   \n",
       "4  app crashes every time I try to log in. what g...       1      0   \n",
       "\n",
       "                uid formated_date      app_category          app  \\\n",
       "0  shqoc6X1fcJRLEmx    2018-10-21            Casual   cleverapps   \n",
       "1  shqoc6X1fcJRLEmx    2019-01-18  Health & Fitness     bodyfast   \n",
       "2  shqoc6X1fcJRLEmx    2021-01-16              Word  thrivegames   \n",
       "3  shqoc6X1fcJRLEmx    2021-11-04     Entertainment     affinity   \n",
       "4  shqoc6X1fcJRLEmx    2021-11-24            Dating    inmessage   \n",
       "\n",
       "                    week       date    month  \n",
       "0  2018-10-15/2018-10-21 2018-10-21  2018-10  \n",
       "1  2019-01-14/2019-01-20 2019-01-18  2019-01  \n",
       "2  2021-01-11/2021-01-17 2021-01-16  2021-01  \n",
       "3  2021-11-01/2021-11-07 2021-11-04  2021-11  \n",
       "4  2021-11-22/2021-11-28 2021-11-24  2021-11  "
      ]
     },
     "execution_count": 117,
     "metadata": {},
     "output_type": "execute_result"
    }
   ],
   "source": [
    "mbr.head()"
   ]
  },
  {
   "cell_type": "code",
   "execution_count": 118,
   "id": "9e7a0f2e",
   "metadata": {},
   "outputs": [
    {
     "name": "stdout",
     "output_type": "stream",
     "text": [
      "<class 'pandas.core.frame.DataFrame'>\n",
      "Index: 197749 entries, 0 to 199986\n",
      "Data columns (total 11 columns):\n",
      " #   Column         Non-Null Count   Dtype         \n",
      "---  ------         --------------   -----         \n",
      " 0   app_package    197749 non-null  object        \n",
      " 1   review         197749 non-null  object        \n",
      " 2   rating         197749 non-null  int64         \n",
      " 3   votes          197749 non-null  int64         \n",
      " 4   uid            197749 non-null  object        \n",
      " 5   formated_date  197749 non-null  object        \n",
      " 6   app_category   197749 non-null  object        \n",
      " 7   app            197749 non-null  object        \n",
      " 8   week           197749 non-null  period[W-SUN] \n",
      " 9   date           197749 non-null  datetime64[ns]\n",
      " 10  month          197749 non-null  period[M]     \n",
      "dtypes: datetime64[ns](1), int64(2), object(6), period[M](1), period[W-SUN](1)\n",
      "memory usage: 18.1+ MB\n"
     ]
    }
   ],
   "source": [
    "mbr.info()"
   ]
  },
  {
   "cell_type": "markdown",
   "id": "67c1a708",
   "metadata": {},
   "source": [
    "# Pregunta 1: ¿Existen combinaciones de apps que se descargan juntas? Ya que si ciertas apps se descargan juntas podemos estar frente a un “ecosistema digital”"
   ]
  },
  {
   "cell_type": "markdown",
   "id": "1a538edc",
   "metadata": {},
   "source": [
    "Podriamos cambiar de pregunta en vez de que \"se descargen juntas\" a \"descargan en un mismo periodo de tiempo\""
   ]
  },
  {
   "cell_type": "markdown",
   "id": "4448158c",
   "metadata": {},
   "source": [
    "## A-priori"
   ]
  },
  {
   "cell_type": "markdown",
   "id": "55b67801",
   "metadata": {},
   "source": [
    "Para saber si existen apps que se descargan juntas, probe tres periododds de tiempo: **dia, semana y mes**.\n",
    "\n",
    "Primero crei que, si un usuario instalaba varias apps “a la vez”, seria **el mismo dia**. Corri Apriori con un `min_support` muy bajo , pero casi todas las cestas diarias tenian solo una app y aparecio un unico par: la descarga simultsnea NO existe.\n",
    "\n",
    "Entonces ahora con **una semana**. Hay **23** pares: las co-descargas existen, pero son pocas e inestables.\n",
    "\n",
    "Finalmente probe con **un mes** y si funciono: aparecieron **373** pares con *lift* alto (> 2), señal de “ecosistemas” de apps que se instalan a lo largo del mes. :)\n"
   ]
  },
  {
   "cell_type": "markdown",
   "id": "e6e42b3b",
   "metadata": {},
   "source": [
    "### Por dia"
   ]
  },
  {
   "cell_type": "code",
   "execution_count": 119,
   "id": "fda6ee64",
   "metadata": {},
   "outputs": [
    {
     "name": "stderr",
     "output_type": "stream",
     "text": [
      "C:\\Users\\tomas\\AppData\\Local\\Temp\\ipykernel_19396\\2131890428.py:12: FutureWarning: Allowing arbitrary scalar fill_value in SparseDtype is deprecated. In a future version, the fill_value must be a valid value for the SparseDtype.subtype.\n",
      "  df_te = pd.DataFrame.sparse.from_spmatrix(\n"
     ]
    },
    {
     "name": "stdout",
     "output_type": "stream",
     "text": [
      "Encontrados: 1\n"
     ]
    },
    {
     "data": {
      "text/html": [
       "<div>\n",
       "<style scoped>\n",
       "    .dataframe tbody tr th:only-of-type {\n",
       "        vertical-align: middle;\n",
       "    }\n",
       "\n",
       "    .dataframe tbody tr th {\n",
       "        vertical-align: top;\n",
       "    }\n",
       "\n",
       "    .dataframe thead th {\n",
       "        text-align: right;\n",
       "    }\n",
       "</style>\n",
       "<table border=\"1\" class=\"dataframe\">\n",
       "  <thead>\n",
       "    <tr style=\"text-align: right;\">\n",
       "      <th></th>\n",
       "      <th>support</th>\n",
       "      <th>itemsets</th>\n",
       "    </tr>\n",
       "  </thead>\n",
       "  <tbody>\n",
       "    <tr>\n",
       "      <th>4586</th>\n",
       "      <td>0.00001</td>\n",
       "      <td>(facebook, experian)</td>\n",
       "    </tr>\n",
       "  </tbody>\n",
       "</table>\n",
       "</div>"
      ],
      "text/plain": [
       "      support              itemsets\n",
       "4586  0.00001  (facebook, experian)"
      ]
     },
     "metadata": {},
     "output_type": "display_data"
    }
   ],
   "source": [
    "cols = [\"uid\", \"formated_date\", \"app\"]\n",
    "df = mbr[cols].copy()\n",
    "\n",
    "baskets = (df\n",
    "    .groupby([\"uid\", \"formated_date\"])[\"app\"]\n",
    "    .apply(lambda x: sorted(set(x)))        \n",
    "    .tolist())\n",
    "\n",
    "te = TransactionEncoder()\n",
    "te_fit     = te.fit(baskets)\n",
    "te_matrix  = te_fit.transform(baskets, sparse=True)   \n",
    "df_te = pd.DataFrame.sparse.from_spmatrix(\n",
    "           te_matrix,\n",
    "           columns = te_fit.columns_)\n",
    "\n",
    "\n",
    "itemsets_d = apriori(df_te,\n",
    "    min_support = 0.00001,   # ES MUY CHICO\n",
    "    use_colnames = True,\n",
    "    low_memory   = True)   \n",
    "\n",
    "apriori_dia = (itemsets_d[itemsets_d['itemsets'].str.len() >= 2]\n",
    "    .sort_values('support', ascending=False))\n",
    "\n",
    "print(\"Encontrados:\", len(apriori_dia))\n",
    "display(apriori_dia.head())"
   ]
  },
  {
   "cell_type": "markdown",
   "id": "5c23efba",
   "metadata": {},
   "source": [
    "### Por semana"
   ]
  },
  {
   "cell_type": "code",
   "execution_count": 120,
   "id": "c44bc797",
   "metadata": {},
   "outputs": [
    {
     "name": "stderr",
     "output_type": "stream",
     "text": [
      "C:\\Users\\tomas\\AppData\\Local\\Temp\\ipykernel_19396\\2045398757.py:6: FutureWarning: Allowing arbitrary scalar fill_value in SparseDtype is deprecated. In a future version, the fill_value must be a valid value for the SparseDtype.subtype.\n",
      "  df_te = pd.DataFrame.sparse.from_spmatrix(te_matrix, columns=te.columns_)\n"
     ]
    },
    {
     "name": "stdout",
     "output_type": "stream",
     "text": [
      "Encontrados: 23\n"
     ]
    },
    {
     "data": {
      "text/html": [
       "<div>\n",
       "<style scoped>\n",
       "    .dataframe tbody tr th:only-of-type {\n",
       "        vertical-align: middle;\n",
       "    }\n",
       "\n",
       "    .dataframe tbody tr th {\n",
       "        vertical-align: top;\n",
       "    }\n",
       "\n",
       "    .dataframe thead th {\n",
       "        text-align: right;\n",
       "    }\n",
       "</style>\n",
       "<table border=\"1\" class=\"dataframe\">\n",
       "  <thead>\n",
       "    <tr style=\"text-align: right;\">\n",
       "      <th></th>\n",
       "      <th>support</th>\n",
       "      <th>itemsets</th>\n",
       "    </tr>\n",
       "  </thead>\n",
       "  <tbody>\n",
       "    <tr>\n",
       "      <th>4597</th>\n",
       "      <td>0.000016</td>\n",
       "      <td>(google, g5e)</td>\n",
       "    </tr>\n",
       "    <tr>\n",
       "      <th>4602</th>\n",
       "      <td>0.000016</td>\n",
       "      <td>(google, my)</td>\n",
       "    </tr>\n",
       "    <tr>\n",
       "      <th>4586</th>\n",
       "      <td>0.000010</td>\n",
       "      <td>(microsoft, CarXTech)</td>\n",
       "    </tr>\n",
       "    <tr>\n",
       "      <th>4589</th>\n",
       "      <td>0.000010</td>\n",
       "      <td>(huawei, amazon)</td>\n",
       "    </tr>\n",
       "    <tr>\n",
       "      <th>4590</th>\n",
       "      <td>0.000010</td>\n",
       "      <td>(microsoft, blackpanther)</td>\n",
       "    </tr>\n",
       "  </tbody>\n",
       "</table>\n",
       "</div>"
      ],
      "text/plain": [
       "       support                   itemsets\n",
       "4597  0.000016              (google, g5e)\n",
       "4602  0.000016               (google, my)\n",
       "4586  0.000010      (microsoft, CarXTech)\n",
       "4589  0.000010           (huawei, amazon)\n",
       "4590  0.000010  (microsoft, blackpanther)"
      ]
     },
     "metadata": {},
     "output_type": "display_data"
    }
   ],
   "source": [
    "baskets = (mbr.groupby([\"uid\", \"week\"])[\"app\"]\n",
    "    .apply(lambda x: sorted(set(x))).tolist())\n",
    "\n",
    "te = TransactionEncoder()\n",
    "te_matrix = te.fit_transform(baskets, sparse=True)\n",
    "df_te = pd.DataFrame.sparse.from_spmatrix(te_matrix, columns=te.columns_)\n",
    "\n",
    "itemsets_s = apriori(df_te,\n",
    "    min_support = 0.00001,   \n",
    "    use_colnames= True,\n",
    "    low_memory  = True)\n",
    "\n",
    "apriori_semana = (itemsets_s[itemsets_s['itemsets'].str.len() >= 2]\n",
    "    .sort_values('support', ascending=False))\n",
    "\n",
    "print(\"Encontrados:\", len(apriori_semana))\n",
    "display(apriori_semana.head())\n"
   ]
  },
  {
   "cell_type": "markdown",
   "id": "e07c9cfc",
   "metadata": {},
   "source": [
    "### Por mes"
   ]
  },
  {
   "cell_type": "code",
   "execution_count": 121,
   "id": "77c3a7c2",
   "metadata": {},
   "outputs": [
    {
     "name": "stderr",
     "output_type": "stream",
     "text": [
      "C:\\Users\\tomas\\AppData\\Local\\Temp\\ipykernel_19396\\2505319318.py:8: FutureWarning: Allowing arbitrary scalar fill_value in SparseDtype is deprecated. In a future version, the fill_value must be a valid value for the SparseDtype.subtype.\n",
      "  dfm = pd.DataFrame.sparse.from_spmatrix(mat, columns=te.columns_)\n"
     ]
    },
    {
     "name": "stdout",
     "output_type": "stream",
     "text": [
      "Encontrados: 376\n"
     ]
    },
    {
     "data": {
      "text/html": [
       "<div>\n",
       "<style scoped>\n",
       "    .dataframe tbody tr th:only-of-type {\n",
       "        vertical-align: middle;\n",
       "    }\n",
       "\n",
       "    .dataframe tbody tr th {\n",
       "        vertical-align: top;\n",
       "    }\n",
       "\n",
       "    .dataframe thead th {\n",
       "        text-align: right;\n",
       "    }\n",
       "</style>\n",
       "<table border=\"1\" class=\"dataframe\">\n",
       "  <thead>\n",
       "    <tr style=\"text-align: right;\">\n",
       "      <th></th>\n",
       "      <th>support</th>\n",
       "      <th>itemsets</th>\n",
       "    </tr>\n",
       "  </thead>\n",
       "  <tbody>\n",
       "    <tr>\n",
       "      <th>4810</th>\n",
       "      <td>0.000039</td>\n",
       "      <td>(google, playrix)</td>\n",
       "    </tr>\n",
       "    <tr>\n",
       "      <th>4789</th>\n",
       "      <td>0.000039</td>\n",
       "      <td>(microsoft, google)</td>\n",
       "    </tr>\n",
       "    <tr>\n",
       "      <th>4713</th>\n",
       "      <td>0.000028</td>\n",
       "      <td>(google, etsy)</td>\n",
       "    </tr>\n",
       "    <tr>\n",
       "      <th>4731</th>\n",
       "      <td>0.000028</td>\n",
       "      <td>(google, fungames)</td>\n",
       "    </tr>\n",
       "    <tr>\n",
       "      <th>4735</th>\n",
       "      <td>0.000028</td>\n",
       "      <td>(google, g5e)</td>\n",
       "    </tr>\n",
       "  </tbody>\n",
       "</table>\n",
       "</div>"
      ],
      "text/plain": [
       "       support             itemsets\n",
       "4810  0.000039    (google, playrix)\n",
       "4789  0.000039  (microsoft, google)\n",
       "4713  0.000028       (google, etsy)\n",
       "4731  0.000028   (google, fungames)\n",
       "4735  0.000028        (google, g5e)"
      ]
     },
     "metadata": {},
     "output_type": "display_data"
    }
   ],
   "source": [
    "baskets_m = (mbr\n",
    "    .groupby(['uid', 'month'])['app']\n",
    "    .apply(lambda x: sorted(set(x)))      \n",
    "    .tolist())\n",
    "\n",
    "te  = TransactionEncoder()\n",
    "mat = te.fit_transform(baskets_m, sparse=True)\n",
    "dfm = pd.DataFrame.sparse.from_spmatrix(mat, columns=te.columns_)\n",
    "\n",
    "itemsets_m = apriori(dfm,\n",
    "    min_support=0.00001,\n",
    "    max_len=2,\n",
    "    use_colnames=True,\n",
    "    low_memory=True)\n",
    "\n",
    "apriori_mes = (itemsets_m[itemsets_m['itemsets'].str.len() >= 2]\n",
    "    .sort_values('support', ascending=False))\n",
    "\n",
    "print(\"Encontrados:\", len(apriori_mes))\n",
    "display(apriori_mes.head())"
   ]
  },
  {
   "cell_type": "markdown",
   "id": "44775171",
   "metadata": {},
   "source": [
    "## Redes Bayesianas \n",
    "No es necesario\n"
   ]
  }
 ],
 "metadata": {
  "kernelspec": {
   "display_name": "Python 3",
   "language": "python",
   "name": "python3"
  },
  "language_info": {
   "codemirror_mode": {
    "name": "ipython",
    "version": 3
   },
   "file_extension": ".py",
   "mimetype": "text/x-python",
   "name": "python",
   "nbconvert_exporter": "python",
   "pygments_lexer": "ipython3",
   "version": "3.11.9"
  }
 },
 "nbformat": 4,
 "nbformat_minor": 5
}
