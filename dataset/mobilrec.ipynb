{
 "cells": [
  {
   "cell_type": "code",
   "execution_count": null,
   "id": "e6d2b242",
   "metadata": {},
   "outputs": [
    {
     "name": "stderr",
     "output_type": "stream",
     "text": [
      "C:\\Users\\tomas\\AppData\\Local\\Packages\\PythonSoftwareFoundation.Python.3.11_qbz5n2kfra8p0\\LocalCache\\local-packages\\Python311\\site-packages\\tqdm\\auto.py:21: TqdmWarning: IProgress not found. Please update jupyter and ipywidgets. See https://ipywidgets.readthedocs.io/en/stable/user_install.html\n",
      "  from .autonotebook import tqdm as notebook_tqdm\n"
     ]
    }
   ],
   "source": [
    "from datasets import load_dataset\n",
    "import pandas as pd\n",
    "\n",
    "# load the dataset and meta_data \n",
    "mbr_data = load_dataset('recmeapp/mobilerec', data_dir='interactions')\n",
    "mbr_meta = load_dataset('recmeapp/mobilerec', data_dir='app_meta')\n",
    "\n",
    "# Save dataset to .csv file for creating pandas dataframe\n",
    "mbr_data['train'].to_csv('./mbr_data.csv') \n",
    "\n",
    "# Convert to pandas dataframe\n",
    "mobilerec_df = pd.read_csv('./mbr_data.csv')\n",
    "\n",
    "# How many interactions are there in the MobileRec dataset?\n",
    "print(f'There are {len(mobilerec_df)} interactions in mobilerec dataset.')\n",
    "\n",
    "# How many unique app_packages (apps or items) are there?\n",
    "print(f'There are {len(mobilerec_df[\"app_package\"].unique())} unique apps in mobilerec dataset.')\n",
    "\n",
    "# How many unique users are there in the mobilerec dataset?\n",
    "print(f'There are {len(mobilerec_df[\"uid\"].unique())} unique users in mobilerec dataset.')\n",
    "\n",
    "# How many categoris are there?\n",
    "print(f'There are {len(mobilerec_df[\"app_category\"].unique())} unique categories in mobilerec dataset.')"
   ]
  },
  {
   "cell_type": "code",
   "execution_count": null,
   "id": "dd5a88f7",
   "metadata": {},
   "outputs": [
    {
     "data": {
      "text/html": [
       "<div>\n",
       "<style scoped>\n",
       "    .dataframe tbody tr th:only-of-type {\n",
       "        vertical-align: middle;\n",
       "    }\n",
       "\n",
       "    .dataframe tbody tr th {\n",
       "        vertical-align: top;\n",
       "    }\n",
       "\n",
       "    .dataframe thead th {\n",
       "        text-align: right;\n",
       "    }\n",
       "</style>\n",
       "<table border=\"1\" class=\"dataframe\">\n",
       "  <thead>\n",
       "    <tr style=\"text-align: right;\">\n",
       "      <th></th>\n",
       "      <th>app_package</th>\n",
       "      <th>review</th>\n",
       "      <th>rating</th>\n",
       "      <th>votes</th>\n",
       "      <th>date</th>\n",
       "      <th>uid</th>\n",
       "      <th>formated_date</th>\n",
       "      <th>unix_timestamp</th>\n",
       "      <th>app_category</th>\n",
       "    </tr>\n",
       "  </thead>\n",
       "  <tbody>\n",
       "    <tr>\n",
       "      <th>0</th>\n",
       "      <td>com.cleverapps.heroes</td>\n",
       "      <td>It's really a fun game</td>\n",
       "      <td>5</td>\n",
       "      <td>1</td>\n",
       "      <td>October 21, 2018</td>\n",
       "      <td>shqoc6X1fcJRLEmx</td>\n",
       "      <td>2018-10-21</td>\n",
       "      <td>1.540094e+09</td>\n",
       "      <td>Casual</td>\n",
       "    </tr>\n",
       "    <tr>\n",
       "      <th>1</th>\n",
       "      <td>com.bodyfast</td>\n",
       "      <td>uninstalling. it was ok but felt like it was c...</td>\n",
       "      <td>2</td>\n",
       "      <td>0</td>\n",
       "      <td>January 18, 2019</td>\n",
       "      <td>shqoc6X1fcJRLEmx</td>\n",
       "      <td>2019-01-18</td>\n",
       "      <td>1.547788e+09</td>\n",
       "      <td>Health &amp; Fitness</td>\n",
       "    </tr>\n",
       "    <tr>\n",
       "      <th>2</th>\n",
       "      <td>com.thrivegames.wordshapes</td>\n",
       "      <td>Love this game</td>\n",
       "      <td>4</td>\n",
       "      <td>1</td>\n",
       "      <td>January 16, 2021</td>\n",
       "      <td>shqoc6X1fcJRLEmx</td>\n",
       "      <td>2021-01-16</td>\n",
       "      <td>1.610773e+09</td>\n",
       "      <td>Word</td>\n",
       "    </tr>\n",
       "    <tr>\n",
       "      <th>3</th>\n",
       "      <td>com.affinity.rewarded_play</td>\n",
       "      <td>Doesn't update play time. Just downloaded it 3...</td>\n",
       "      <td>1</td>\n",
       "      <td>1</td>\n",
       "      <td>November 4, 2021</td>\n",
       "      <td>shqoc6X1fcJRLEmx</td>\n",
       "      <td>2021-11-04</td>\n",
       "      <td>1.635998e+09</td>\n",
       "      <td>Entertainment</td>\n",
       "    </tr>\n",
       "    <tr>\n",
       "      <th>4</th>\n",
       "      <td>dating.inmessage.net</td>\n",
       "      <td>app crashes every time I try to log in. what g...</td>\n",
       "      <td>1</td>\n",
       "      <td>0</td>\n",
       "      <td>November 24, 2021</td>\n",
       "      <td>shqoc6X1fcJRLEmx</td>\n",
       "      <td>2021-11-24</td>\n",
       "      <td>1.637730e+09</td>\n",
       "      <td>Dating</td>\n",
       "    </tr>\n",
       "  </tbody>\n",
       "</table>\n",
       "</div>"
      ],
      "text/plain": [
       "                  app_package  \\\n",
       "0       com.cleverapps.heroes   \n",
       "1                com.bodyfast   \n",
       "2  com.thrivegames.wordshapes   \n",
       "3  com.affinity.rewarded_play   \n",
       "4        dating.inmessage.net   \n",
       "\n",
       "                                              review  rating  votes  \\\n",
       "0                             It's really a fun game       5      1   \n",
       "1  uninstalling. it was ok but felt like it was c...       2      0   \n",
       "2                                     Love this game       4      1   \n",
       "3  Doesn't update play time. Just downloaded it 3...       1      1   \n",
       "4  app crashes every time I try to log in. what g...       1      0   \n",
       "\n",
       "                date               uid formated_date  unix_timestamp  \\\n",
       "0   October 21, 2018  shqoc6X1fcJRLEmx    2018-10-21    1.540094e+09   \n",
       "1   January 18, 2019  shqoc6X1fcJRLEmx    2019-01-18    1.547788e+09   \n",
       "2   January 16, 2021  shqoc6X1fcJRLEmx    2021-01-16    1.610773e+09   \n",
       "3   November 4, 2021  shqoc6X1fcJRLEmx    2021-11-04    1.635998e+09   \n",
       "4  November 24, 2021  shqoc6X1fcJRLEmx    2021-11-24    1.637730e+09   \n",
       "\n",
       "       app_category  \n",
       "0            Casual  \n",
       "1  Health & Fitness  \n",
       "2              Word  \n",
       "3     Entertainment  \n",
       "4            Dating  "
      ]
     },
     "execution_count": 4,
     "metadata": {},
     "output_type": "execute_result"
    }
   ],
   "source": [
    "mobilerec_df.head()"
   ]
  },
  {
   "cell_type": "code",
   "execution_count": null,
   "id": "0cc164cf",
   "metadata": {},
   "outputs": [
    {
     "data": {
      "text/plain": [
       "(19297019, 9)"
      ]
     },
     "execution_count": 5,
     "metadata": {},
     "output_type": "execute_result"
    }
   ],
   "source": [
    "mobilerec_df.shape"
   ]
  },
  {
   "cell_type": "code",
   "execution_count": 6,
   "id": "f2d60cb4",
   "metadata": {},
   "outputs": [],
   "source": [
    "import math\n",
    "\n",
    "# Cantidad de filas por archivo\n",
    "chunk_size = 100_000\n",
    "num_chunks = math.ceil(len(mobilerec_df) / chunk_size)\n",
    "\n",
    "for i in range(num_chunks):\n",
    "    start = i * chunk_size\n",
    "    end = start + chunk_size\n",
    "    chunk = mobilerec_df.iloc[start:end]\n",
    "    chunk.to_csv(f\"mobilerec_part_{i+1}.csv\", index=False)\n"
   ]
  }
 ],
 "metadata": {
  "kernelspec": {
   "display_name": "Python 3",
   "language": "python",
   "name": "python3"
  },
  "language_info": {
   "codemirror_mode": {
    "name": "ipython",
    "version": 3
   },
   "file_extension": ".py",
   "mimetype": "text/x-python",
   "name": "python",
   "nbconvert_exporter": "python",
   "pygments_lexer": "ipython3",
   "version": "3.11.9"
  }
 },
 "nbformat": 4,
 "nbformat_minor": 5
}
