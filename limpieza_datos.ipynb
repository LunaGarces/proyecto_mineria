{
 "cells": [
  {
   "cell_type": "markdown",
   "id": "1e0bc404",
   "metadata": {},
   "source": [
    "<h1><center> Limpieza de datos</h1>"
   ]
  },
  {
   "cell_type": "markdown",
   "id": "752bcb4d",
   "metadata": {},
   "source": [
    "## Librerías"
   ]
  },
  {
   "cell_type": "code",
   "execution_count": 1,
   "id": "2cc5e6bf",
   "metadata": {},
   "outputs": [],
   "source": [
    "import pandas as pd"
   ]
  },
  {
   "cell_type": "markdown",
   "id": "6d6fcf11",
   "metadata": {},
   "source": [
    "## 1. Carga de archivos"
   ]
  },
  {
   "cell_type": "code",
   "execution_count": 2,
   "id": "3158c19b",
   "metadata": {},
   "outputs": [],
   "source": [
    "screen_times = pd.read_csv(\"dataset/screentime_analysis.csv\")\n",
    "moblie_usuage = pd.read_csv(\"dataset/mobile_usage_behavioral_analysis.csv\")\n",
    "google_play_store_user = pd.read_csv(\"dataset/google/googleplaystore_user_reviews.csv\")\n",
    "google_play_store = pd.read_csv(\"dataset/google/googleplaystore.csv\")\n",
    "mbr_p1 = pd.read_csv(\"dataset/mobilerec_part_1.csv\")\n",
    "mbr_p2 = pd.read_csv(\"dataset/mobilerec_part_2.csv\")"
   ]
  },
  {
   "cell_type": "markdown",
   "id": "233481f8",
   "metadata": {},
   "source": [
    "## 2. Limpieza de Datos"
   ]
  },
  {
   "cell_type": "markdown",
   "id": "329d9261",
   "metadata": {},
   "source": [
    "### **screentime_analysis**\n"
   ]
  },
  {
   "cell_type": "code",
   "execution_count": 3,
   "id": "fa4ff6ed",
   "metadata": {},
   "outputs": [
    {
     "name": "stdout",
     "output_type": "stream",
     "text": [
      "<class 'pandas.core.frame.DataFrame'>\n",
      "RangeIndex: 200 entries, 0 to 199\n",
      "Data columns (total 5 columns):\n",
      " #   Column           Non-Null Count  Dtype \n",
      "---  ------           --------------  ----- \n",
      " 0   Date             200 non-null    object\n",
      " 1   App              200 non-null    object\n",
      " 2   Usage (minutes)  200 non-null    int64 \n",
      " 3   Notifications    200 non-null    int64 \n",
      " 4   Times Opened     200 non-null    int64 \n",
      "dtypes: int64(3), object(2)\n",
      "memory usage: 7.9+ KB\n"
     ]
    }
   ],
   "source": [
    "original_len = len(screen_times)\n",
    "screen_times.info()"
   ]
  },
  {
   "cell_type": "code",
   "execution_count": 4,
   "id": "b465bbef",
   "metadata": {},
   "outputs": [],
   "source": [
    "screen_times = screen_times.drop_duplicates()\n",
    "screen_times.columns = screen_times.columns.str.strip()"
   ]
  },
  {
   "cell_type": "code",
   "execution_count": 5,
   "id": "91f06a4c",
   "metadata": {},
   "outputs": [],
   "source": [
    "#Convertir la columna 'Date' a tipo datetime\n",
    "screen_times['Date'] = pd.to_datetime(screen_times['Date'], errors='coerce')\n",
    "screen_times = screen_times.dropna(subset=['Date'])"
   ]
  },
  {
   "cell_type": "code",
   "execution_count": 6,
   "id": "a2507895",
   "metadata": {},
   "outputs": [],
   "source": [
    "screen_times.reset_index(drop=True, inplace=True)"
   ]
  },
  {
   "cell_type": "code",
   "execution_count": 7,
   "id": "c17e7320",
   "metadata": {},
   "outputs": [
    {
     "name": "stdout",
     "output_type": "stream",
     "text": [
      "screen_times: Se eliminaron 0 filas.\n"
     ]
    }
   ],
   "source": [
    "#Ej: screen_times = screen_times.drop_duplicates()\n",
    "final_len = len(screen_times)\n",
    "print(f\"screen_times: Se eliminaron {original_len - final_len} filas.\")\n"
   ]
  },
  {
   "cell_type": "markdown",
   "id": "8c84c7a2",
   "metadata": {},
   "source": [
    "### **moblie_usuage_behavioral_analysis**"
   ]
  },
  {
   "cell_type": "code",
   "execution_count": 8,
   "id": "7ad59b8d",
   "metadata": {},
   "outputs": [
    {
     "name": "stdout",
     "output_type": "stream",
     "text": [
      "<class 'pandas.core.frame.DataFrame'>\n",
      "RangeIndex: 1000 entries, 0 to 999\n",
      "Data columns (total 10 columns):\n",
      " #   Column                        Non-Null Count  Dtype  \n",
      "---  ------                        --------------  -----  \n",
      " 0   User_ID                       1000 non-null   int64  \n",
      " 1   Age                           1000 non-null   int64  \n",
      " 2   Gender                        1000 non-null   object \n",
      " 3   Total_App_Usage_Hours         1000 non-null   float64\n",
      " 4   Daily_Screen_Time_Hours       1000 non-null   float64\n",
      " 5   Number_of_Apps_Used           1000 non-null   int64  \n",
      " 6   Social_Media_Usage_Hours      1000 non-null   float64\n",
      " 7   Productivity_App_Usage_Hours  1000 non-null   float64\n",
      " 8   Gaming_App_Usage_Hours        1000 non-null   float64\n",
      " 9   Location                      1000 non-null   object \n",
      "dtypes: float64(5), int64(3), object(2)\n",
      "memory usage: 78.2+ KB\n"
     ]
    }
   ],
   "source": [
    "moblie_usuage.info()"
   ]
  },
  {
   "cell_type": "code",
   "execution_count": 9,
   "id": "424d8a8d",
   "metadata": {},
   "outputs": [],
   "source": [
    "moblie_usuage = moblie_usuage.drop_duplicates()\n",
    "moblie_usuage.columns = moblie_usuage.columns.str.strip()\n",
    "\n",
    "moblie_usuage['Gender'] = moblie_usuage['Gender'].str.strip()\n",
    "moblie_usuage['Location'] = moblie_usuage['Location'].str.strip()"
   ]
  },
  {
   "cell_type": "code",
   "execution_count": 10,
   "id": "60952c50",
   "metadata": {},
   "outputs": [],
   "source": [
    "moblie_usuage.reset_index(drop=True, inplace=True)"
   ]
  },
  {
   "cell_type": "markdown",
   "id": "d11c03e0",
   "metadata": {},
   "source": [
    "### **gogleplay**"
   ]
  },
  {
   "cell_type": "markdown",
   "id": "73e896f8",
   "metadata": {},
   "source": [
    "#### googleplaystore_user_reviews.csv"
   ]
  },
  {
   "cell_type": "code",
   "execution_count": 11,
   "id": "27c6ac08",
   "metadata": {},
   "outputs": [
    {
     "name": "stdout",
     "output_type": "stream",
     "text": [
      "<class 'pandas.core.frame.DataFrame'>\n",
      "RangeIndex: 64295 entries, 0 to 64294\n",
      "Data columns (total 5 columns):\n",
      " #   Column                  Non-Null Count  Dtype  \n",
      "---  ------                  --------------  -----  \n",
      " 0   App                     64295 non-null  object \n",
      " 1   Translated_Review       37427 non-null  object \n",
      " 2   Sentiment               37432 non-null  object \n",
      " 3   Sentiment_Polarity      37432 non-null  float64\n",
      " 4   Sentiment_Subjectivity  37432 non-null  float64\n",
      "dtypes: float64(2), object(3)\n",
      "memory usage: 2.5+ MB\n"
     ]
    }
   ],
   "source": [
    "google_play_store_user.info()"
   ]
  },
  {
   "cell_type": "code",
   "execution_count": 12,
   "id": "9844fd18",
   "metadata": {},
   "outputs": [],
   "source": [
    "google_play_store_user = google_play_store_user.drop_duplicates() # se eliminan muchoo\n",
    "google_play_store_user.columns = google_play_store_user.columns.str.strip()"
   ]
  },
  {
   "cell_type": "code",
   "execution_count": 13,
   "id": "3b555af2",
   "metadata": {},
   "outputs": [],
   "source": [
    "# No se que tan necesario son estas columnas\n",
    "google_play_store_user = google_play_store_user.dropna(subset=[ # se eliminan mucho\n",
    "    'Translated_Review', 'Sentiment', 'Sentiment_Polarity', 'Sentiment_Subjectivity'\n",
    "])"
   ]
  },
  {
   "cell_type": "code",
   "execution_count": 14,
   "id": "b483c975",
   "metadata": {},
   "outputs": [],
   "source": [
    "google_play_store_user.reset_index(drop=True, inplace=True)"
   ]
  },
  {
   "cell_type": "code",
   "execution_count": 15,
   "id": "90dcadff",
   "metadata": {},
   "outputs": [
    {
     "name": "stdout",
     "output_type": "stream",
     "text": [
      "Se eliminaron 34603 filas incompletas.\n"
     ]
    }
   ],
   "source": [
    "original_len = 64295\n",
    "final_len = len(google_play_store_user)\n",
    "print(f\"Se eliminaron {original_len - final_len} filas incompletas.\")"
   ]
  },
  {
   "cell_type": "markdown",
   "id": "20d5e414",
   "metadata": {},
   "source": [
    "#### googleplaystore.csv"
   ]
  },
  {
   "cell_type": "code",
   "execution_count": 16,
   "id": "5c34414d",
   "metadata": {},
   "outputs": [
    {
     "name": "stdout",
     "output_type": "stream",
     "text": [
      "<class 'pandas.core.frame.DataFrame'>\n",
      "RangeIndex: 10841 entries, 0 to 10840\n",
      "Data columns (total 13 columns):\n",
      " #   Column          Non-Null Count  Dtype  \n",
      "---  ------          --------------  -----  \n",
      " 0   App             10841 non-null  object \n",
      " 1   Category        10841 non-null  object \n",
      " 2   Rating          9367 non-null   float64\n",
      " 3   Reviews         10841 non-null  object \n",
      " 4   Size            10841 non-null  object \n",
      " 5   Installs        10841 non-null  object \n",
      " 6   Type            10840 non-null  object \n",
      " 7   Price           10841 non-null  object \n",
      " 8   Content Rating  10840 non-null  object \n",
      " 9   Genres          10841 non-null  object \n",
      " 10  Last Updated    10841 non-null  object \n",
      " 11  Current Ver     10833 non-null  object \n",
      " 12  Android Ver     10838 non-null  object \n",
      "dtypes: float64(1), object(12)\n",
      "memory usage: 1.1+ MB\n"
     ]
    }
   ],
   "source": [
    "google_play_store.info()"
   ]
  },
  {
   "cell_type": "code",
   "execution_count": 17,
   "id": "bc4baed9",
   "metadata": {},
   "outputs": [],
   "source": [
    "google_play_store = google_play_store.drop_duplicates()\n",
    "google_play_store.columns = google_play_store.columns.str.strip()\n",
    "\n",
    "google_play_store = google_play_store.dropna(subset=['Rating', 'Type', 'Content Rating']) # se eliminan muchas filas\n",
    "\n",
    "google_play_store['Reviews'] = pd.to_numeric(google_play_store['Reviews'], errors='coerce')"
   ]
  },
  {
   "cell_type": "code",
   "execution_count": 18,
   "id": "8260a1ae",
   "metadata": {},
   "outputs": [],
   "source": [
    "# Size\n",
    "# Cambiar \"M, k y Varies with device\" a numero\n",
    "def parse_size(size):\n",
    "    if size.endswith('M'):\n",
    "        return float(size.replace('M', '')) * 1_000_000\n",
    "    elif size.endswith('k'):\n",
    "        return float(size.replace('k', '')) * 1_000\n",
    "    elif size == 'Varies with device':\n",
    "        return None\n",
    "    else:\n",
    "        return None\n",
    "\n",
    "google_play_store['Size'] = google_play_store['Size'].apply(parse_size)"
   ]
  },
  {
   "cell_type": "code",
   "execution_count": 19,
   "id": "7c704d60",
   "metadata": {},
   "outputs": [],
   "source": [
    "# Installs\n",
    "google_play_store['Installs'] = (\n",
    "    google_play_store['Installs']\n",
    "    .str.replace('[+,]', '', regex=True)\n",
    "    .str.strip()\n",
    ")\n",
    "google_play_store['Installs'] = pd.to_numeric(google_play_store['Installs'], errors='coerce')"
   ]
  },
  {
   "cell_type": "code",
   "execution_count": 20,
   "id": "fe4a95fe",
   "metadata": {},
   "outputs": [],
   "source": [
    "# Price\n",
    "google_play_store['Price'] = (\n",
    "    google_play_store['Price']\n",
    "    .str.replace('$', '', regex=False)\n",
    ")\n",
    "google_play_store['Price'] = pd.to_numeric(google_play_store['Price'], errors='coerce')"
   ]
  },
  {
   "cell_type": "code",
   "execution_count": 21,
   "id": "9c002a00",
   "metadata": {},
   "outputs": [],
   "source": [
    "# 9. Convertir la columna a'Last Updated' a tipo datetime\n",
    "google_play_store['Last Updated'] = pd.to_datetime(google_play_store['Last Updated'], errors='coerce')"
   ]
  },
  {
   "cell_type": "code",
   "execution_count": 22,
   "id": "ef86fb40",
   "metadata": {},
   "outputs": [],
   "source": [
    "google_play_store.reset_index(drop=True, inplace=True)"
   ]
  },
  {
   "cell_type": "markdown",
   "id": "ed403724",
   "metadata": {},
   "source": [
    "### **MobileRec**"
   ]
  },
  {
   "cell_type": "code",
   "execution_count": 23,
   "id": "e2804408",
   "metadata": {},
   "outputs": [
    {
     "data": {
      "text/html": [
       "<div>\n",
       "<style scoped>\n",
       "    .dataframe tbody tr th:only-of-type {\n",
       "        vertical-align: middle;\n",
       "    }\n",
       "\n",
       "    .dataframe tbody tr th {\n",
       "        vertical-align: top;\n",
       "    }\n",
       "\n",
       "    .dataframe thead th {\n",
       "        text-align: right;\n",
       "    }\n",
       "</style>\n",
       "<table border=\"1\" class=\"dataframe\">\n",
       "  <thead>\n",
       "    <tr style=\"text-align: right;\">\n",
       "      <th></th>\n",
       "      <th>app_package</th>\n",
       "      <th>review</th>\n",
       "      <th>rating</th>\n",
       "      <th>votes</th>\n",
       "      <th>date</th>\n",
       "      <th>uid</th>\n",
       "      <th>formated_date</th>\n",
       "      <th>unix_timestamp</th>\n",
       "      <th>app_category</th>\n",
       "    </tr>\n",
       "  </thead>\n",
       "  <tbody>\n",
       "    <tr>\n",
       "      <th>0</th>\n",
       "      <td>com.cleverapps.heroes</td>\n",
       "      <td>It's really a fun game</td>\n",
       "      <td>5</td>\n",
       "      <td>1</td>\n",
       "      <td>October 21, 2018</td>\n",
       "      <td>shqoc6X1fcJRLEmx</td>\n",
       "      <td>2018-10-21</td>\n",
       "      <td>1.540094e+09</td>\n",
       "      <td>Casual</td>\n",
       "    </tr>\n",
       "    <tr>\n",
       "      <th>1</th>\n",
       "      <td>com.bodyfast</td>\n",
       "      <td>uninstalling. it was ok but felt like it was c...</td>\n",
       "      <td>2</td>\n",
       "      <td>0</td>\n",
       "      <td>January 18, 2019</td>\n",
       "      <td>shqoc6X1fcJRLEmx</td>\n",
       "      <td>2019-01-18</td>\n",
       "      <td>1.547788e+09</td>\n",
       "      <td>Health &amp; Fitness</td>\n",
       "    </tr>\n",
       "    <tr>\n",
       "      <th>2</th>\n",
       "      <td>com.thrivegames.wordshapes</td>\n",
       "      <td>Love this game</td>\n",
       "      <td>4</td>\n",
       "      <td>1</td>\n",
       "      <td>January 16, 2021</td>\n",
       "      <td>shqoc6X1fcJRLEmx</td>\n",
       "      <td>2021-01-16</td>\n",
       "      <td>1.610773e+09</td>\n",
       "      <td>Word</td>\n",
       "    </tr>\n",
       "    <tr>\n",
       "      <th>3</th>\n",
       "      <td>com.affinity.rewarded_play</td>\n",
       "      <td>Doesn't update play time. Just downloaded it 3...</td>\n",
       "      <td>1</td>\n",
       "      <td>1</td>\n",
       "      <td>November 4, 2021</td>\n",
       "      <td>shqoc6X1fcJRLEmx</td>\n",
       "      <td>2021-11-04</td>\n",
       "      <td>1.635998e+09</td>\n",
       "      <td>Entertainment</td>\n",
       "    </tr>\n",
       "    <tr>\n",
       "      <th>4</th>\n",
       "      <td>dating.inmessage.net</td>\n",
       "      <td>app crashes every time I try to log in. what g...</td>\n",
       "      <td>1</td>\n",
       "      <td>0</td>\n",
       "      <td>November 24, 2021</td>\n",
       "      <td>shqoc6X1fcJRLEmx</td>\n",
       "      <td>2021-11-24</td>\n",
       "      <td>1.637730e+09</td>\n",
       "      <td>Dating</td>\n",
       "    </tr>\n",
       "  </tbody>\n",
       "</table>\n",
       "</div>"
      ],
      "text/plain": [
       "                  app_package  \\\n",
       "0       com.cleverapps.heroes   \n",
       "1                com.bodyfast   \n",
       "2  com.thrivegames.wordshapes   \n",
       "3  com.affinity.rewarded_play   \n",
       "4        dating.inmessage.net   \n",
       "\n",
       "                                              review  rating  votes  \\\n",
       "0                             It's really a fun game       5      1   \n",
       "1  uninstalling. it was ok but felt like it was c...       2      0   \n",
       "2                                     Love this game       4      1   \n",
       "3  Doesn't update play time. Just downloaded it 3...       1      1   \n",
       "4  app crashes every time I try to log in. what g...       1      0   \n",
       "\n",
       "                date               uid formated_date  unix_timestamp  \\\n",
       "0   October 21, 2018  shqoc6X1fcJRLEmx    2018-10-21    1.540094e+09   \n",
       "1   January 18, 2019  shqoc6X1fcJRLEmx    2019-01-18    1.547788e+09   \n",
       "2   January 16, 2021  shqoc6X1fcJRLEmx    2021-01-16    1.610773e+09   \n",
       "3   November 4, 2021  shqoc6X1fcJRLEmx    2021-11-04    1.635998e+09   \n",
       "4  November 24, 2021  shqoc6X1fcJRLEmx    2021-11-24    1.637730e+09   \n",
       "\n",
       "       app_category  \n",
       "0            Casual  \n",
       "1  Health & Fitness  \n",
       "2              Word  \n",
       "3     Entertainment  \n",
       "4            Dating  "
      ]
     },
     "execution_count": 23,
     "metadata": {},
     "output_type": "execute_result"
    }
   ],
   "source": [
    "mbr_p1.head()"
   ]
  },
  {
   "cell_type": "code",
   "execution_count": 25,
   "id": "d4c08001",
   "metadata": {},
   "outputs": [
    {
     "data": {
      "text/html": [
       "<div>\n",
       "<style scoped>\n",
       "    .dataframe tbody tr th:only-of-type {\n",
       "        vertical-align: middle;\n",
       "    }\n",
       "\n",
       "    .dataframe tbody tr th {\n",
       "        vertical-align: top;\n",
       "    }\n",
       "\n",
       "    .dataframe thead th {\n",
       "        text-align: right;\n",
       "    }\n",
       "</style>\n",
       "<table border=\"1\" class=\"dataframe\">\n",
       "  <thead>\n",
       "    <tr style=\"text-align: right;\">\n",
       "      <th></th>\n",
       "      <th>app_package</th>\n",
       "      <th>review</th>\n",
       "      <th>rating</th>\n",
       "      <th>votes</th>\n",
       "      <th>date</th>\n",
       "      <th>uid</th>\n",
       "      <th>formated_date</th>\n",
       "      <th>unix_timestamp</th>\n",
       "      <th>app_category</th>\n",
       "    </tr>\n",
       "  </thead>\n",
       "  <tbody>\n",
       "    <tr>\n",
       "      <th>0</th>\n",
       "      <td>cricketgames.hitwicket.strategy</td>\n",
       "      <td>Bawal game</td>\n",
       "      <td>5</td>\n",
       "      <td>0</td>\n",
       "      <td>December 25, 2021</td>\n",
       "      <td>glMP4AgE7e7MCILJ</td>\n",
       "      <td>2021-12-25</td>\n",
       "      <td>1.640408e+09</td>\n",
       "      <td>Sports</td>\n",
       "    </tr>\n",
       "    <tr>\n",
       "      <th>1</th>\n",
       "      <td>com.spotify.music</td>\n",
       "      <td>Have been getting annoyed about the app crashi...</td>\n",
       "      <td>2</td>\n",
       "      <td>16</td>\n",
       "      <td>January 26, 2022</td>\n",
       "      <td>glMP4AgE7e7MCILJ</td>\n",
       "      <td>2022-01-26</td>\n",
       "      <td>1.643173e+09</td>\n",
       "      <td>Music &amp; Audio</td>\n",
       "    </tr>\n",
       "    <tr>\n",
       "      <th>2</th>\n",
       "      <td>com.star.union.planetant</td>\n",
       "      <td>Its like any other game layout wise, but its a...</td>\n",
       "      <td>5</td>\n",
       "      <td>0</td>\n",
       "      <td>February 9, 2022</td>\n",
       "      <td>glMP4AgE7e7MCILJ</td>\n",
       "      <td>2022-02-09</td>\n",
       "      <td>1.644383e+09</td>\n",
       "      <td>Strategy</td>\n",
       "    </tr>\n",
       "    <tr>\n",
       "      <th>3</th>\n",
       "      <td>com.ilyin.alchemy</td>\n",
       "      <td>seru menurutku, tekatekinya lumayan sulit dan ...</td>\n",
       "      <td>4</td>\n",
       "      <td>0</td>\n",
       "      <td>February 15, 2022</td>\n",
       "      <td>glMP4AgE7e7MCILJ</td>\n",
       "      <td>2022-02-15</td>\n",
       "      <td>1.644901e+09</td>\n",
       "      <td>Puzzle</td>\n",
       "    </tr>\n",
       "    <tr>\n",
       "      <th>4</th>\n",
       "      <td>com.Heyworks.PocketTroopsVK</td>\n",
       "      <td>Really like it.</td>\n",
       "      <td>4</td>\n",
       "      <td>0</td>\n",
       "      <td>October 4, 2018</td>\n",
       "      <td>gmSMTVROv3c8gsjp</td>\n",
       "      <td>2018-10-04</td>\n",
       "      <td>1.538626e+09</td>\n",
       "      <td>Role Playing</td>\n",
       "    </tr>\n",
       "  </tbody>\n",
       "</table>\n",
       "</div>"
      ],
      "text/plain": [
       "                       app_package  \\\n",
       "0  cricketgames.hitwicket.strategy   \n",
       "1                com.spotify.music   \n",
       "2         com.star.union.planetant   \n",
       "3                com.ilyin.alchemy   \n",
       "4      com.Heyworks.PocketTroopsVK   \n",
       "\n",
       "                                              review  rating  votes  \\\n",
       "0                                         Bawal game       5      0   \n",
       "1  Have been getting annoyed about the app crashi...       2     16   \n",
       "2  Its like any other game layout wise, but its a...       5      0   \n",
       "3  seru menurutku, tekatekinya lumayan sulit dan ...       4      0   \n",
       "4                                    Really like it.       4      0   \n",
       "\n",
       "                date               uid formated_date  unix_timestamp  \\\n",
       "0  December 25, 2021  glMP4AgE7e7MCILJ    2021-12-25    1.640408e+09   \n",
       "1   January 26, 2022  glMP4AgE7e7MCILJ    2022-01-26    1.643173e+09   \n",
       "2   February 9, 2022  glMP4AgE7e7MCILJ    2022-02-09    1.644383e+09   \n",
       "3  February 15, 2022  glMP4AgE7e7MCILJ    2022-02-15    1.644901e+09   \n",
       "4    October 4, 2018  gmSMTVROv3c8gsjp    2018-10-04    1.538626e+09   \n",
       "\n",
       "    app_category  \n",
       "0         Sports  \n",
       "1  Music & Audio  \n",
       "2       Strategy  \n",
       "3         Puzzle  \n",
       "4   Role Playing  "
      ]
     },
     "execution_count": 25,
     "metadata": {},
     "output_type": "execute_result"
    }
   ],
   "source": [
    "mbr_p2.head()"
   ]
  },
  {
   "cell_type": "code",
   "execution_count": 29,
   "id": "4600b783",
   "metadata": {},
   "outputs": [],
   "source": [
    "mbr_combinado = pd.concat([mbr_p1, mbr_p2], ignore_index=True)"
   ]
  },
  {
   "cell_type": "code",
   "execution_count": 30,
   "id": "026ee506",
   "metadata": {},
   "outputs": [
    {
     "name": "stdout",
     "output_type": "stream",
     "text": [
      "<class 'pandas.core.frame.DataFrame'>\n",
      "RangeIndex: 200000 entries, 0 to 199999\n",
      "Data columns (total 9 columns):\n",
      " #   Column          Non-Null Count   Dtype  \n",
      "---  ------          --------------   -----  \n",
      " 0   app_package     200000 non-null  object \n",
      " 1   review          199987 non-null  object \n",
      " 2   rating          200000 non-null  int64  \n",
      " 3   votes           200000 non-null  int64  \n",
      " 4   date            200000 non-null  object \n",
      " 5   uid             200000 non-null  object \n",
      " 6   formated_date   200000 non-null  object \n",
      " 7   unix_timestamp  200000 non-null  float64\n",
      " 8   app_category    200000 non-null  object \n",
      "dtypes: float64(1), int64(2), object(6)\n",
      "memory usage: 13.7+ MB\n"
     ]
    }
   ],
   "source": [
    "mbr_combinado.info()"
   ]
  },
  {
   "cell_type": "code",
   "execution_count": 31,
   "id": "cc8c1976",
   "metadata": {},
   "outputs": [
    {
     "name": "stdout",
     "output_type": "stream",
     "text": [
      "Duplicados eliminados: 0\n"
     ]
    }
   ],
   "source": [
    "original_rows = len(mbr_combinado)\n",
    "mbr = mbr_combinado.drop_duplicates()\n",
    "cleaned_rows = len(mbr)\n",
    "eliminados = original_rows - cleaned_rows\n",
    "print(f\"Duplicados eliminados: {eliminados}\")"
   ]
  },
  {
   "cell_type": "code",
   "execution_count": 32,
   "id": "262c481a",
   "metadata": {},
   "outputs": [
    {
     "name": "stdout",
     "output_type": "stream",
     "text": [
      "Valores nulos por columna:\n",
      "app_package        0\n",
      "review            13\n",
      "rating             0\n",
      "votes              0\n",
      "date               0\n",
      "uid                0\n",
      "formated_date      0\n",
      "unix_timestamp     0\n",
      "app_category       0\n",
      "dtype: int64\n"
     ]
    }
   ],
   "source": [
    "print(\"Valores nulos por columna:\")\n",
    "print(mbr.isnull().sum())"
   ]
  },
  {
   "cell_type": "code",
   "execution_count": 33,
   "id": "ff160afc",
   "metadata": {},
   "outputs": [
    {
     "name": "stdout",
     "output_type": "stream",
     "text": [
      "app_package       0\n",
      "review            0\n",
      "rating            0\n",
      "votes             0\n",
      "date              0\n",
      "uid               0\n",
      "formated_date     0\n",
      "unix_timestamp    0\n",
      "app_category      0\n",
      "dtype: int64\n"
     ]
    }
   ],
   "source": [
    "mbr = mbr.dropna(subset=['review'])\n",
    "print(mbr.isnull().sum())"
   ]
  },
  {
   "cell_type": "code",
   "execution_count": 34,
   "id": "c6b427b3",
   "metadata": {},
   "outputs": [
    {
     "data": {
      "text/html": [
       "<div>\n",
       "<style scoped>\n",
       "    .dataframe tbody tr th:only-of-type {\n",
       "        vertical-align: middle;\n",
       "    }\n",
       "\n",
       "    .dataframe tbody tr th {\n",
       "        vertical-align: top;\n",
       "    }\n",
       "\n",
       "    .dataframe thead th {\n",
       "        text-align: right;\n",
       "    }\n",
       "</style>\n",
       "<table border=\"1\" class=\"dataframe\">\n",
       "  <thead>\n",
       "    <tr style=\"text-align: right;\">\n",
       "      <th></th>\n",
       "      <th>app_package</th>\n",
       "      <th>rating</th>\n",
       "      <th>votes</th>\n",
       "      <th>uid</th>\n",
       "      <th>formated_date</th>\n",
       "      <th>app_category</th>\n",
       "    </tr>\n",
       "  </thead>\n",
       "  <tbody>\n",
       "    <tr>\n",
       "      <th>0</th>\n",
       "      <td>com.cleverapps.heroes</td>\n",
       "      <td>5</td>\n",
       "      <td>1</td>\n",
       "      <td>shqoc6X1fcJRLEmx</td>\n",
       "      <td>2018-10-21</td>\n",
       "      <td>Casual</td>\n",
       "    </tr>\n",
       "    <tr>\n",
       "      <th>1</th>\n",
       "      <td>com.bodyfast</td>\n",
       "      <td>2</td>\n",
       "      <td>0</td>\n",
       "      <td>shqoc6X1fcJRLEmx</td>\n",
       "      <td>2019-01-18</td>\n",
       "      <td>Health &amp; Fitness</td>\n",
       "    </tr>\n",
       "    <tr>\n",
       "      <th>2</th>\n",
       "      <td>com.thrivegames.wordshapes</td>\n",
       "      <td>4</td>\n",
       "      <td>1</td>\n",
       "      <td>shqoc6X1fcJRLEmx</td>\n",
       "      <td>2021-01-16</td>\n",
       "      <td>Word</td>\n",
       "    </tr>\n",
       "    <tr>\n",
       "      <th>3</th>\n",
       "      <td>com.affinity.rewarded_play</td>\n",
       "      <td>1</td>\n",
       "      <td>1</td>\n",
       "      <td>shqoc6X1fcJRLEmx</td>\n",
       "      <td>2021-11-04</td>\n",
       "      <td>Entertainment</td>\n",
       "    </tr>\n",
       "    <tr>\n",
       "      <th>4</th>\n",
       "      <td>dating.inmessage.net</td>\n",
       "      <td>1</td>\n",
       "      <td>0</td>\n",
       "      <td>shqoc6X1fcJRLEmx</td>\n",
       "      <td>2021-11-24</td>\n",
       "      <td>Dating</td>\n",
       "    </tr>\n",
       "  </tbody>\n",
       "</table>\n",
       "</div>"
      ],
      "text/plain": [
       "                  app_package  rating  votes               uid formated_date  \\\n",
       "0       com.cleverapps.heroes       5      1  shqoc6X1fcJRLEmx    2018-10-21   \n",
       "1                com.bodyfast       2      0  shqoc6X1fcJRLEmx    2019-01-18   \n",
       "2  com.thrivegames.wordshapes       4      1  shqoc6X1fcJRLEmx    2021-01-16   \n",
       "3  com.affinity.rewarded_play       1      1  shqoc6X1fcJRLEmx    2021-11-04   \n",
       "4        dating.inmessage.net       1      0  shqoc6X1fcJRLEmx    2021-11-24   \n",
       "\n",
       "       app_category  \n",
       "0            Casual  \n",
       "1  Health & Fitness  \n",
       "2              Word  \n",
       "3     Entertainment  \n",
       "4            Dating  "
      ]
     },
     "execution_count": 34,
     "metadata": {},
     "output_type": "execute_result"
    }
   ],
   "source": [
    "#eliminamos columnas no útiles??? igual hay que ver si nos sirven ono xdd\n",
    "mbr = mbr.drop(columns=['review', 'date', 'unix_timestamp'])\n",
    "mbr.head()"
   ]
  },
  {
   "cell_type": "code",
   "execution_count": 35,
   "id": "b1d8e180",
   "metadata": {},
   "outputs": [
    {
     "data": {
      "text/plain": [
       "(199987, 6)"
      ]
     },
     "execution_count": 35,
     "metadata": {},
     "output_type": "execute_result"
    }
   ],
   "source": [
    "mbr.shape"
   ]
  },
  {
   "cell_type": "code",
   "execution_count": 36,
   "id": "9f3a2891",
   "metadata": {},
   "outputs": [
    {
     "name": "stdout",
     "output_type": "stream",
     "text": [
      "Categorías únicas de apps:\n",
      "['Casual' 'Health & Fitness' 'Word' 'Entertainment' 'Dating' 'Shopping'\n",
      " 'Education' 'Business' 'Libraries & Demo' 'Weather' 'Puzzle'\n",
      " 'Personalization' 'Simulation' 'Maps & Navigation' 'Action'\n",
      " 'Role Playing' 'Productivity' 'Sports' 'Communication' 'Tools' 'Beauty'\n",
      " 'Educational' 'Photography' 'Board' 'Music & Audio' 'Finance'\n",
      " 'Books & Reference' 'Lifestyle' 'Strategy' 'Racing' 'Trivia' 'Parenting'\n",
      " 'Arcade' 'Adventure' 'Travel & Local' 'Card' 'Casino'\n",
      " 'Video Players & Editors' 'Food & Drink' 'Medical' 'Comics'\n",
      " 'News & Magazines' 'Music' 'Social' 'Events' 'Art & Design'\n",
      " 'House & Home' 'Auto & Vehicles']\n"
     ]
    }
   ],
   "source": [
    "print(\"Categorías únicas de apps:\")\n",
    "print(mbr['app_category'].unique())"
   ]
  },
  {
   "cell_type": "markdown",
   "id": "fa7b68e1",
   "metadata": {},
   "source": [
    "aquí podrías agrupar categorías"
   ]
  },
  {
   "cell_type": "code",
   "execution_count": 38,
   "id": "f856099d",
   "metadata": {},
   "outputs": [
    {
     "name": "stdout",
     "output_type": "stream",
     "text": [
      "                  count      mean\n",
      "uid                              \n",
      "T77ZlTef7IEhOxdg     29  2.931034\n",
      "F8KMGk4nmPKUdG7P     28  2.964286\n",
      "jOm4apAMxtsmDOvs     27  3.555556\n",
      "3600qRh0ITB5C8hp     27  3.629630\n",
      "t9I3kpfZiOv5SGDK     26  3.076923\n",
      "NqhTSgQq5RyzlrFA     25  3.360000\n",
      "T5v7WX2IjAcgtmTD     25  3.280000\n",
      "3wWp8nBZA3XavCdj     25  3.440000\n",
      "HCm5E6gKT9nfmgjb     25  3.320000\n",
      "1utYW0ANevrcHcZL     24  3.541667\n"
     ]
    }
   ],
   "source": [
    "usuario_ratings = mbr.groupby('uid')['rating'].agg(['count', 'mean'])\n",
    "print(usuario_ratings.sort_values(by='count', ascending=False).head(10))"
   ]
  },
  {
   "cell_type": "markdown",
   "id": "4fa6c717",
   "metadata": {},
   "source": [
    "no hay usuarios sus"
   ]
  },
  {
   "cell_type": "code",
   "execution_count": 41,
   "id": "4cfc0085",
   "metadata": {},
   "outputs": [
    {
     "name": "stdout",
     "output_type": "stream",
     "text": [
      "Ratings únicos: [5 2 4 1 3]\n"
     ]
    }
   ],
   "source": [
    "print(\"Ratings únicos:\", mbr['rating'].unique())"
   ]
  },
  {
   "cell_type": "markdown",
   "id": "6e771ddb",
   "metadata": {},
   "source": [
    "## 3. Guardar archivos"
   ]
  },
  {
   "cell_type": "code",
   "execution_count": 42,
   "id": "e60c7fb0",
   "metadata": {},
   "outputs": [],
   "source": [
    "screen_times.to_csv('archivos_limpios/screen_times_limpio.csv', index=False)\n",
    "moblie_usuage.to_csv('archivos_limpios/moblie_usuage_limpio.csv', index=False)\n",
    "google_play_store_user.to_csv('archivos_limpios/google_play_store_user_limpio.csv', index=False)\n",
    "google_play_store.to_csv('archivos_limpios/google_play_store_limpio.csv', index=False)\n",
    "mbr.to_csv('archivos_limpios/mbr.csv', index=False)"
   ]
  }
 ],
 "metadata": {
  "kernelspec": {
   "display_name": "Python 3",
   "language": "python",
   "name": "python3"
  },
  "language_info": {
   "codemirror_mode": {
    "name": "ipython",
    "version": 3
   },
   "file_extension": ".py",
   "mimetype": "text/x-python",
   "name": "python",
   "nbconvert_exporter": "python",
   "pygments_lexer": "ipython3",
   "version": "3.10.6"
  }
 },
 "nbformat": 4,
 "nbformat_minor": 5
}
