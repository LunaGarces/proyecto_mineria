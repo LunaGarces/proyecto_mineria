{
 "cells": [
  {
   "cell_type": "markdown",
   "id": "1e0bc404",
   "metadata": {},
   "source": [
    "<h1><center> Limpieza de datos</h1>"
   ]
  },
  {
   "cell_type": "markdown",
   "id": "752bcb4d",
   "metadata": {},
   "source": [
    "# Librerias"
   ]
  },
  {
   "cell_type": "code",
   "execution_count": 242,
   "id": "2cc5e6bf",
   "metadata": {},
   "outputs": [],
   "source": [
    "import pandas as pd"
   ]
  },
  {
   "cell_type": "markdown",
   "id": "6d6fcf11",
   "metadata": {},
   "source": [
    "# Archivos"
   ]
  },
  {
   "cell_type": "code",
   "execution_count": 243,
   "id": "3158c19b",
   "metadata": {},
   "outputs": [],
   "source": [
    "screen_times = pd.read_csv(\"dataset\\screentime_analysis.csv\")\n",
    "moblie_usuage = pd.read_csv(\"dataset\\mobile_usage_behavioral_analysis.csv\")\n",
    "google_play_store_user = pd.read_csv(\"dataset\\google\\googleplaystore_user_reviews.csv\")\n",
    "google_play_store = pd.read_csv(\"dataset\\google\\googleplaystore.csv\")"
   ]
  },
  {
   "cell_type": "markdown",
   "id": "329d9261",
   "metadata": {},
   "source": [
    "## **screentime_analysis**\n"
   ]
  },
  {
   "cell_type": "code",
   "execution_count": 244,
   "id": "fa4ff6ed",
   "metadata": {},
   "outputs": [
    {
     "name": "stdout",
     "output_type": "stream",
     "text": [
      "<class 'pandas.core.frame.DataFrame'>\n",
      "RangeIndex: 200 entries, 0 to 199\n",
      "Data columns (total 5 columns):\n",
      " #   Column           Non-Null Count  Dtype \n",
      "---  ------           --------------  ----- \n",
      " 0   Date             200 non-null    object\n",
      " 1   App              200 non-null    object\n",
      " 2   Usage (minutes)  200 non-null    int64 \n",
      " 3   Notifications    200 non-null    int64 \n",
      " 4   Times Opened     200 non-null    int64 \n",
      "dtypes: int64(3), object(2)\n",
      "memory usage: 7.9+ KB\n"
     ]
    }
   ],
   "source": [
    "original_len = len(screen_times)\n",
    "screen_times.info()"
   ]
  },
  {
   "cell_type": "code",
   "execution_count": 245,
   "id": "b465bbef",
   "metadata": {},
   "outputs": [],
   "source": [
    "screen_times = screen_times.drop_duplicates()\n",
    "screen_times.columns = screen_times.columns.str.strip()"
   ]
  },
  {
   "cell_type": "code",
   "execution_count": 246,
   "id": "91f06a4c",
   "metadata": {},
   "outputs": [],
   "source": [
    "# Convertir la columna 'Date' a tipo datetime\n",
    "screen_times['Date'] = pd.to_datetime(screen_times['Date'], errors='coerce')\n",
    "screen_times = screen_times.dropna(subset=['Date'])"
   ]
  },
  {
   "cell_type": "code",
   "execution_count": 247,
   "id": "a2507895",
   "metadata": {},
   "outputs": [],
   "source": [
    "screen_times.reset_index(drop=True, inplace=True)"
   ]
  },
  {
   "cell_type": "code",
   "execution_count": 248,
   "id": "c17e7320",
   "metadata": {},
   "outputs": [
    {
     "name": "stdout",
     "output_type": "stream",
     "text": [
      "screen_times: Se eliminaron 0 filas.\n"
     ]
    }
   ],
   "source": [
    "# Ejemplo: screen_times = screen_times.drop_duplicates()\n",
    "final_len = len(screen_times)\n",
    "print(f\"screen_times: Se eliminaron {original_len - final_len} filas.\")\n"
   ]
  },
  {
   "cell_type": "markdown",
   "id": "8c84c7a2",
   "metadata": {},
   "source": [
    "## **moblie_usuage_behavioral_analysis**"
   ]
  },
  {
   "cell_type": "code",
   "execution_count": 249,
   "id": "7ad59b8d",
   "metadata": {},
   "outputs": [
    {
     "name": "stdout",
     "output_type": "stream",
     "text": [
      "<class 'pandas.core.frame.DataFrame'>\n",
      "RangeIndex: 1000 entries, 0 to 999\n",
      "Data columns (total 10 columns):\n",
      " #   Column                        Non-Null Count  Dtype  \n",
      "---  ------                        --------------  -----  \n",
      " 0   User_ID                       1000 non-null   int64  \n",
      " 1   Age                           1000 non-null   int64  \n",
      " 2   Gender                        1000 non-null   object \n",
      " 3   Total_App_Usage_Hours         1000 non-null   float64\n",
      " 4   Daily_Screen_Time_Hours       1000 non-null   float64\n",
      " 5   Number_of_Apps_Used           1000 non-null   int64  \n",
      " 6   Social_Media_Usage_Hours      1000 non-null   float64\n",
      " 7   Productivity_App_Usage_Hours  1000 non-null   float64\n",
      " 8   Gaming_App_Usage_Hours        1000 non-null   float64\n",
      " 9   Location                      1000 non-null   object \n",
      "dtypes: float64(5), int64(3), object(2)\n",
      "memory usage: 78.3+ KB\n"
     ]
    }
   ],
   "source": [
    "moblie_usuage.info()"
   ]
  },
  {
   "cell_type": "code",
   "execution_count": 250,
   "id": "424d8a8d",
   "metadata": {},
   "outputs": [],
   "source": [
    "moblie_usuage = moblie_usuage.drop_duplicates()\n",
    "moblie_usuage.columns = moblie_usuage.columns.str.strip()\n",
    "\n",
    "moblie_usuage['Gender'] = moblie_usuage['Gender'].str.strip()\n",
    "moblie_usuage['Location'] = moblie_usuage['Location'].str.strip()"
   ]
  },
  {
   "cell_type": "code",
   "execution_count": 251,
   "id": "60952c50",
   "metadata": {},
   "outputs": [],
   "source": [
    "moblie_usuage.reset_index(drop=True, inplace=True)"
   ]
  },
  {
   "cell_type": "markdown",
   "id": "d11c03e0",
   "metadata": {},
   "source": [
    "## **gogleplay**"
   ]
  },
  {
   "cell_type": "markdown",
   "id": "73e896f8",
   "metadata": {},
   "source": [
    "### googleplaystore_user_reviews.csv"
   ]
  },
  {
   "cell_type": "code",
   "execution_count": 252,
   "id": "27c6ac08",
   "metadata": {},
   "outputs": [
    {
     "name": "stdout",
     "output_type": "stream",
     "text": [
      "<class 'pandas.core.frame.DataFrame'>\n",
      "RangeIndex: 64295 entries, 0 to 64294\n",
      "Data columns (total 5 columns):\n",
      " #   Column                  Non-Null Count  Dtype  \n",
      "---  ------                  --------------  -----  \n",
      " 0   App                     64295 non-null  object \n",
      " 1   Translated_Review       37427 non-null  object \n",
      " 2   Sentiment               37432 non-null  object \n",
      " 3   Sentiment_Polarity      37432 non-null  float64\n",
      " 4   Sentiment_Subjectivity  37432 non-null  float64\n",
      "dtypes: float64(2), object(3)\n",
      "memory usage: 2.5+ MB\n"
     ]
    }
   ],
   "source": [
    "google_play_store_user.info()"
   ]
  },
  {
   "cell_type": "code",
   "execution_count": 253,
   "id": "9844fd18",
   "metadata": {},
   "outputs": [],
   "source": [
    "google_play_store_user = google_play_store_user.drop_duplicates() # se eliminan muchoo\n",
    "google_play_store_user.columns = google_play_store_user.columns.str.strip()"
   ]
  },
  {
   "cell_type": "code",
   "execution_count": 254,
   "id": "3b555af2",
   "metadata": {},
   "outputs": [],
   "source": [
    "# No se que tan necesario son estas columnas\n",
    "google_play_store_user = google_play_store_user.dropna(subset=[ # se eliminan mucho\n",
    "    'Translated_Review', 'Sentiment', 'Sentiment_Polarity', 'Sentiment_Subjectivity'\n",
    "])"
   ]
  },
  {
   "cell_type": "code",
   "execution_count": 255,
   "id": "b483c975",
   "metadata": {},
   "outputs": [],
   "source": [
    "google_play_store_user.reset_index(drop=True, inplace=True)"
   ]
  },
  {
   "cell_type": "code",
   "execution_count": 256,
   "id": "90dcadff",
   "metadata": {},
   "outputs": [
    {
     "name": "stdout",
     "output_type": "stream",
     "text": [
      "Se eliminaron 34603 filas incompletas.\n"
     ]
    }
   ],
   "source": [
    "original_len = 64295\n",
    "final_len = len(google_play_store_user)\n",
    "print(f\"Se eliminaron {original_len - final_len} filas incompletas.\")"
   ]
  },
  {
   "cell_type": "markdown",
   "id": "20d5e414",
   "metadata": {},
   "source": [
    "### googleplaystore.csv"
   ]
  },
  {
   "cell_type": "code",
   "execution_count": 257,
   "id": "5c34414d",
   "metadata": {},
   "outputs": [
    {
     "name": "stdout",
     "output_type": "stream",
     "text": [
      "<class 'pandas.core.frame.DataFrame'>\n",
      "RangeIndex: 10841 entries, 0 to 10840\n",
      "Data columns (total 13 columns):\n",
      " #   Column          Non-Null Count  Dtype  \n",
      "---  ------          --------------  -----  \n",
      " 0   App             10841 non-null  object \n",
      " 1   Category        10841 non-null  object \n",
      " 2   Rating          9367 non-null   float64\n",
      " 3   Reviews         10841 non-null  object \n",
      " 4   Size            10841 non-null  object \n",
      " 5   Installs        10841 non-null  object \n",
      " 6   Type            10840 non-null  object \n",
      " 7   Price           10841 non-null  object \n",
      " 8   Content Rating  10840 non-null  object \n",
      " 9   Genres          10841 non-null  object \n",
      " 10  Last Updated    10841 non-null  object \n",
      " 11  Current Ver     10833 non-null  object \n",
      " 12  Android Ver     10838 non-null  object \n",
      "dtypes: float64(1), object(12)\n",
      "memory usage: 1.1+ MB\n"
     ]
    }
   ],
   "source": [
    "google_play_store.info()"
   ]
  },
  {
   "cell_type": "code",
   "execution_count": 258,
   "id": "bc4baed9",
   "metadata": {},
   "outputs": [],
   "source": [
    "google_play_store = google_play_store.drop_duplicates()\n",
    "google_play_store.columns = google_play_store.columns.str.strip()\n",
    "\n",
    "google_play_store = google_play_store.dropna(subset=['Rating', 'Type', 'Content Rating']) # se eliminan muchas filas\n",
    "\n",
    "google_play_store['Reviews'] = pd.to_numeric(google_play_store['Reviews'], errors='coerce')"
   ]
  },
  {
   "cell_type": "code",
   "execution_count": 259,
   "id": "8260a1ae",
   "metadata": {},
   "outputs": [],
   "source": [
    "# Size\n",
    "# Cambiar \"M, k y Varies with device\" a numero\n",
    "def parse_size(size):\n",
    "    if size.endswith('M'):\n",
    "        return float(size.replace('M', '')) * 1_000_000\n",
    "    elif size.endswith('k'):\n",
    "        return float(size.replace('k', '')) * 1_000\n",
    "    elif size == 'Varies with device':\n",
    "        return None\n",
    "    else:\n",
    "        return None\n",
    "\n",
    "google_play_store['Size'] = google_play_store['Size'].apply(parse_size)"
   ]
  },
  {
   "cell_type": "code",
   "execution_count": 260,
   "id": "7c704d60",
   "metadata": {},
   "outputs": [],
   "source": [
    "# Installs\n",
    "google_play_store['Installs'] = (\n",
    "    google_play_store['Installs']\n",
    "    .str.replace('[+,]', '', regex=True)\n",
    "    .str.strip()\n",
    ")\n",
    "google_play_store['Installs'] = pd.to_numeric(google_play_store['Installs'], errors='coerce')"
   ]
  },
  {
   "cell_type": "code",
   "execution_count": 261,
   "id": "fe4a95fe",
   "metadata": {},
   "outputs": [],
   "source": [
    "# Price\n",
    "google_play_store['Price'] = (\n",
    "    google_play_store['Price']\n",
    "    .str.replace('$', '', regex=False)\n",
    ")\n",
    "google_play_store['Price'] = pd.to_numeric(google_play_store['Price'], errors='coerce')"
   ]
  },
  {
   "cell_type": "code",
   "execution_count": 262,
   "id": "9c002a00",
   "metadata": {},
   "outputs": [],
   "source": [
    "# 9. Convertir la columna a'Last Updated' a tipo datetime\n",
    "google_play_store['Last Updated'] = pd.to_datetime(google_play_store['Last Updated'], errors='coerce')"
   ]
  },
  {
   "cell_type": "code",
   "execution_count": 263,
   "id": "ef86fb40",
   "metadata": {},
   "outputs": [],
   "source": [
    "google_play_store.reset_index(drop=True, inplace=True)"
   ]
  },
  {
   "cell_type": "markdown",
   "id": "6e771ddb",
   "metadata": {},
   "source": [
    "# Guardar archivos"
   ]
  },
  {
   "cell_type": "code",
   "execution_count": 264,
   "id": "e60c7fb0",
   "metadata": {},
   "outputs": [],
   "source": [
    "screen_times.to_csv('archivos_limpios/screen_times_limpio.csv', index=False)\n",
    "moblie_usuage.to_csv('archivos_limpios/moblie_usuage_limpio.csv', index=False)\n",
    "google_play_store_user.to_csv('archivos_limpios/google_play_store_user_limpio.csv', index=False)\n",
    "google_play_store.to_csv('archivos_limpios/google_play_store_limpio.csv', index=False)"
   ]
  }
 ],
 "metadata": {
  "kernelspec": {
   "display_name": "Python 3",
   "language": "python",
   "name": "python3"
  },
  "language_info": {
   "codemirror_mode": {
    "name": "ipython",
    "version": 3
   },
   "file_extension": ".py",
   "mimetype": "text/x-python",
   "name": "python",
   "nbconvert_exporter": "python",
   "pygments_lexer": "ipython3",
   "version": "3.11.9"
  }
 },
 "nbformat": 4,
 "nbformat_minor": 5
}
