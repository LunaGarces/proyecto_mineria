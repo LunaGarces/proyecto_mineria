{
 "cells": [
  {
   "cell_type": "markdown",
   "id": "0caf2cd5",
   "metadata": {},
   "source": [
    "### KMEANS"
   ]
  },
  {
   "cell_type": "code",
   "execution_count": 79,
   "id": "74eb61f1",
   "metadata": {},
   "outputs": [
    {
     "data": {
      "text/html": [
       "<div>\n",
       "<style scoped>\n",
       "    .dataframe tbody tr th:only-of-type {\n",
       "        vertical-align: middle;\n",
       "    }\n",
       "\n",
       "    .dataframe tbody tr th {\n",
       "        vertical-align: top;\n",
       "    }\n",
       "\n",
       "    .dataframe thead th {\n",
       "        text-align: right;\n",
       "    }\n",
       "</style>\n",
       "<table border=\"1\" class=\"dataframe\">\n",
       "  <thead>\n",
       "    <tr style=\"text-align: right;\">\n",
       "      <th></th>\n",
       "      <th>User_ID</th>\n",
       "      <th>Age</th>\n",
       "      <th>Gender</th>\n",
       "      <th>Total_App_Usage_Hours</th>\n",
       "      <th>Daily_Screen_Time_Hours</th>\n",
       "      <th>Number_of_Apps_Used</th>\n",
       "      <th>Social_Media_Usage_Hours</th>\n",
       "      <th>Productivity_App_Usage_Hours</th>\n",
       "      <th>Gaming_App_Usage_Hours</th>\n",
       "      <th>Location</th>\n",
       "    </tr>\n",
       "  </thead>\n",
       "  <tbody>\n",
       "    <tr>\n",
       "      <th>0</th>\n",
       "      <td>1</td>\n",
       "      <td>56</td>\n",
       "      <td>Male</td>\n",
       "      <td>2.61</td>\n",
       "      <td>7.15</td>\n",
       "      <td>24</td>\n",
       "      <td>4.43</td>\n",
       "      <td>0.55</td>\n",
       "      <td>2.40</td>\n",
       "      <td>Los Angeles</td>\n",
       "    </tr>\n",
       "    <tr>\n",
       "      <th>1</th>\n",
       "      <td>2</td>\n",
       "      <td>46</td>\n",
       "      <td>Male</td>\n",
       "      <td>2.13</td>\n",
       "      <td>13.79</td>\n",
       "      <td>18</td>\n",
       "      <td>4.67</td>\n",
       "      <td>4.42</td>\n",
       "      <td>2.43</td>\n",
       "      <td>Chicago</td>\n",
       "    </tr>\n",
       "    <tr>\n",
       "      <th>2</th>\n",
       "      <td>3</td>\n",
       "      <td>32</td>\n",
       "      <td>Female</td>\n",
       "      <td>7.28</td>\n",
       "      <td>4.50</td>\n",
       "      <td>11</td>\n",
       "      <td>4.58</td>\n",
       "      <td>1.71</td>\n",
       "      <td>2.83</td>\n",
       "      <td>Houston</td>\n",
       "    </tr>\n",
       "    <tr>\n",
       "      <th>3</th>\n",
       "      <td>4</td>\n",
       "      <td>25</td>\n",
       "      <td>Female</td>\n",
       "      <td>1.20</td>\n",
       "      <td>6.29</td>\n",
       "      <td>21</td>\n",
       "      <td>3.18</td>\n",
       "      <td>3.42</td>\n",
       "      <td>4.58</td>\n",
       "      <td>Phoenix</td>\n",
       "    </tr>\n",
       "    <tr>\n",
       "      <th>4</th>\n",
       "      <td>5</td>\n",
       "      <td>38</td>\n",
       "      <td>Male</td>\n",
       "      <td>6.31</td>\n",
       "      <td>12.59</td>\n",
       "      <td>14</td>\n",
       "      <td>3.15</td>\n",
       "      <td>0.13</td>\n",
       "      <td>4.00</td>\n",
       "      <td>New York</td>\n",
       "    </tr>\n",
       "  </tbody>\n",
       "</table>\n",
       "</div>"
      ],
      "text/plain": [
       "   User_ID  Age  Gender  Total_App_Usage_Hours  Daily_Screen_Time_Hours  \\\n",
       "0        1   56    Male                   2.61                     7.15   \n",
       "1        2   46    Male                   2.13                    13.79   \n",
       "2        3   32  Female                   7.28                     4.50   \n",
       "3        4   25  Female                   1.20                     6.29   \n",
       "4        5   38    Male                   6.31                    12.59   \n",
       "\n",
       "   Number_of_Apps_Used  Social_Media_Usage_Hours  \\\n",
       "0                   24                      4.43   \n",
       "1                   18                      4.67   \n",
       "2                   11                      4.58   \n",
       "3                   21                      3.18   \n",
       "4                   14                      3.15   \n",
       "\n",
       "   Productivity_App_Usage_Hours  Gaming_App_Usage_Hours     Location  \n",
       "0                          0.55                    2.40  Los Angeles  \n",
       "1                          4.42                    2.43      Chicago  \n",
       "2                          1.71                    2.83      Houston  \n",
       "3                          3.42                    4.58      Phoenix  \n",
       "4                          0.13                    4.00     New York  "
      ]
     },
     "execution_count": 79,
     "metadata": {},
     "output_type": "execute_result"
    }
   ],
   "source": [
    "import pandas as pd\n",
    "\n",
    "# Cargar el dataset\n",
    "df_mobile = pd.read_csv(\"archivos_limpios/moblie_usuage_limpio.csv\")\n",
    "\n",
    "# Ver las primeras filas\n",
    "df_mobile.head()"
   ]
  },
  {
   "cell_type": "code",
   "execution_count": 80,
   "id": "3db45755",
   "metadata": {},
   "outputs": [
    {
     "name": "stdout",
     "output_type": "stream",
     "text": [
      "<class 'pandas.core.frame.DataFrame'>\n",
      "RangeIndex: 1000 entries, 0 to 999\n",
      "Data columns (total 10 columns):\n",
      " #   Column                        Non-Null Count  Dtype  \n",
      "---  ------                        --------------  -----  \n",
      " 0   User_ID                       1000 non-null   int64  \n",
      " 1   Age                           1000 non-null   int64  \n",
      " 2   Gender                        1000 non-null   object \n",
      " 3   Total_App_Usage_Hours         1000 non-null   float64\n",
      " 4   Daily_Screen_Time_Hours       1000 non-null   float64\n",
      " 5   Number_of_Apps_Used           1000 non-null   int64  \n",
      " 6   Social_Media_Usage_Hours      1000 non-null   float64\n",
      " 7   Productivity_App_Usage_Hours  1000 non-null   float64\n",
      " 8   Gaming_App_Usage_Hours        1000 non-null   float64\n",
      " 9   Location                      1000 non-null   object \n",
      "dtypes: float64(5), int64(3), object(2)\n",
      "memory usage: 78.2+ KB\n"
     ]
    }
   ],
   "source": [
    "df_mobile.info()"
   ]
  },
  {
   "cell_type": "code",
   "execution_count": 81,
   "id": "39a1c6df",
   "metadata": {},
   "outputs": [
    {
     "data": {
      "text/html": [
       "<div>\n",
       "<style scoped>\n",
       "    .dataframe tbody tr th:only-of-type {\n",
       "        vertical-align: middle;\n",
       "    }\n",
       "\n",
       "    .dataframe tbody tr th {\n",
       "        vertical-align: top;\n",
       "    }\n",
       "\n",
       "    .dataframe thead th {\n",
       "        text-align: right;\n",
       "    }\n",
       "</style>\n",
       "<table border=\"1\" class=\"dataframe\">\n",
       "  <thead>\n",
       "    <tr style=\"text-align: right;\">\n",
       "      <th></th>\n",
       "      <th>User_ID</th>\n",
       "      <th>Age</th>\n",
       "      <th>Total_App_Usage_Hours</th>\n",
       "      <th>Daily_Screen_Time_Hours</th>\n",
       "      <th>Number_of_Apps_Used</th>\n",
       "      <th>Social_Media_Usage_Hours</th>\n",
       "      <th>Productivity_App_Usage_Hours</th>\n",
       "      <th>Gaming_App_Usage_Hours</th>\n",
       "    </tr>\n",
       "  </thead>\n",
       "  <tbody>\n",
       "    <tr>\n",
       "      <th>count</th>\n",
       "      <td>1000.000000</td>\n",
       "      <td>1000.000000</td>\n",
       "      <td>1000.000000</td>\n",
       "      <td>1000.000000</td>\n",
       "      <td>1000.00000</td>\n",
       "      <td>1000.000000</td>\n",
       "      <td>1000.000000</td>\n",
       "      <td>1000.000000</td>\n",
       "    </tr>\n",
       "    <tr>\n",
       "      <th>mean</th>\n",
       "      <td>500.500000</td>\n",
       "      <td>38.745000</td>\n",
       "      <td>6.405670</td>\n",
       "      <td>7.696310</td>\n",
       "      <td>16.64700</td>\n",
       "      <td>2.456330</td>\n",
       "      <td>2.495270</td>\n",
       "      <td>2.475410</td>\n",
       "    </tr>\n",
       "    <tr>\n",
       "      <th>std</th>\n",
       "      <td>288.819436</td>\n",
       "      <td>12.186734</td>\n",
       "      <td>3.134855</td>\n",
       "      <td>3.714187</td>\n",
       "      <td>7.61961</td>\n",
       "      <td>1.439525</td>\n",
       "      <td>1.443392</td>\n",
       "      <td>1.450362</td>\n",
       "    </tr>\n",
       "    <tr>\n",
       "      <th>min</th>\n",
       "      <td>1.000000</td>\n",
       "      <td>18.000000</td>\n",
       "      <td>1.000000</td>\n",
       "      <td>1.010000</td>\n",
       "      <td>3.00000</td>\n",
       "      <td>0.000000</td>\n",
       "      <td>0.000000</td>\n",
       "      <td>0.010000</td>\n",
       "    </tr>\n",
       "    <tr>\n",
       "      <th>25%</th>\n",
       "      <td>250.750000</td>\n",
       "      <td>28.000000</td>\n",
       "      <td>3.590000</td>\n",
       "      <td>4.530000</td>\n",
       "      <td>10.00000</td>\n",
       "      <td>1.200000</td>\n",
       "      <td>1.282500</td>\n",
       "      <td>1.220000</td>\n",
       "    </tr>\n",
       "    <tr>\n",
       "      <th>50%</th>\n",
       "      <td>500.500000</td>\n",
       "      <td>40.000000</td>\n",
       "      <td>6.455000</td>\n",
       "      <td>7.880000</td>\n",
       "      <td>17.00000</td>\n",
       "      <td>2.445000</td>\n",
       "      <td>2.435000</td>\n",
       "      <td>2.455000</td>\n",
       "    </tr>\n",
       "    <tr>\n",
       "      <th>75%</th>\n",
       "      <td>750.250000</td>\n",
       "      <td>50.000000</td>\n",
       "      <td>9.122500</td>\n",
       "      <td>10.910000</td>\n",
       "      <td>23.00000</td>\n",
       "      <td>3.672500</td>\n",
       "      <td>3.710000</td>\n",
       "      <td>3.782500</td>\n",
       "    </tr>\n",
       "    <tr>\n",
       "      <th>max</th>\n",
       "      <td>1000.000000</td>\n",
       "      <td>59.000000</td>\n",
       "      <td>11.970000</td>\n",
       "      <td>14.000000</td>\n",
       "      <td>29.00000</td>\n",
       "      <td>4.990000</td>\n",
       "      <td>5.000000</td>\n",
       "      <td>5.000000</td>\n",
       "    </tr>\n",
       "  </tbody>\n",
       "</table>\n",
       "</div>"
      ],
      "text/plain": [
       "           User_ID          Age  Total_App_Usage_Hours  \\\n",
       "count  1000.000000  1000.000000            1000.000000   \n",
       "mean    500.500000    38.745000               6.405670   \n",
       "std     288.819436    12.186734               3.134855   \n",
       "min       1.000000    18.000000               1.000000   \n",
       "25%     250.750000    28.000000               3.590000   \n",
       "50%     500.500000    40.000000               6.455000   \n",
       "75%     750.250000    50.000000               9.122500   \n",
       "max    1000.000000    59.000000              11.970000   \n",
       "\n",
       "       Daily_Screen_Time_Hours  Number_of_Apps_Used  Social_Media_Usage_Hours  \\\n",
       "count              1000.000000           1000.00000               1000.000000   \n",
       "mean                  7.696310             16.64700                  2.456330   \n",
       "std                   3.714187              7.61961                  1.439525   \n",
       "min                   1.010000              3.00000                  0.000000   \n",
       "25%                   4.530000             10.00000                  1.200000   \n",
       "50%                   7.880000             17.00000                  2.445000   \n",
       "75%                  10.910000             23.00000                  3.672500   \n",
       "max                  14.000000             29.00000                  4.990000   \n",
       "\n",
       "       Productivity_App_Usage_Hours  Gaming_App_Usage_Hours  \n",
       "count                   1000.000000             1000.000000  \n",
       "mean                       2.495270                2.475410  \n",
       "std                        1.443392                1.450362  \n",
       "min                        0.000000                0.010000  \n",
       "25%                        1.282500                1.220000  \n",
       "50%                        2.435000                2.455000  \n",
       "75%                        3.710000                3.782500  \n",
       "max                        5.000000                5.000000  "
      ]
     },
     "execution_count": 81,
     "metadata": {},
     "output_type": "execute_result"
    }
   ],
   "source": [
    "df_mobile.describe()"
   ]
  },
  {
   "cell_type": "code",
   "execution_count": 82,
   "id": "35622bdc",
   "metadata": {},
   "outputs": [],
   "source": [
    "import pandas as pd\n",
    "from sklearn.preprocessing import StandardScaler, OneHotEncoder\n",
    "from sklearn.compose import ColumnTransformer\n",
    "from sklearn.cluster import KMeans\n",
    "from sklearn.metrics import silhouette_score\n",
    "\n",
    "# 2. Definir variables\n",
    "numerical_features = [\n",
    "    \"Age\",\n",
    "    \"Total_App_Usage_Hours\",\n",
    "    \"Daily_Screen_Time_Hours\",\n",
    "    \"Number_of_Apps_Used\",\n",
    "    \"Social_Media_Usage_Hours\",\n",
    "    \"Productivity_App_Usage_Hours\",\n",
    "    \"Gaming_App_Usage_Hours\"\n",
    "]\n",
    "\n",
    "categorical_features = [\"Gender\", \"Location\"]\n",
    "\n",
    "# 3. Preprocesamiento: Normalización + One-hot encoding\n",
    "preprocessor = ColumnTransformer(\n",
    "    transformers=[\n",
    "        (\"num\", StandardScaler(), numerical_features),\n",
    "        (\"cat\", OneHotEncoder(drop=\"first\"), categorical_features)  # drop first to avoid dummy trap\n",
    "    ]\n",
    ")\n",
    "\n",
    "# 4. Aplicar transformación\n",
    "X_preprocessed = preprocessor.fit_transform(df_mobile)"
   ]
  },
  {
   "cell_type": "code",
   "execution_count": 83,
   "id": "6906a91f",
   "metadata": {},
   "outputs": [
    {
     "name": "stdout",
     "output_type": "stream",
     "text": [
      "k = 2: Silhouette Score = 0.095\n",
      "k = 3: Silhouette Score = 0.086\n",
      "k = 4: Silhouette Score = 0.088\n",
      "k = 5: Silhouette Score = 0.091\n",
      "k = 6: Silhouette Score = 0.089\n",
      "\n",
      "Mejor número de clústeres: 2\n"
     ]
    }
   ],
   "source": [
    "# Probar distintos k\n",
    "silhouette_scores = []\n",
    "for k in range(2, 7):\n",
    "    kmeans = KMeans(n_clusters=k, random_state=42)\n",
    "    labels = kmeans.fit_predict(X_preprocessed)\n",
    "    score = silhouette_score(X_preprocessed, labels)\n",
    "    silhouette_scores.append((k, score))\n",
    "\n",
    "# Mostrar resultados\n",
    "for k, score in silhouette_scores:\n",
    "    print(f\"k = {k}: Silhouette Score = {score:.3f}\")\n",
    "\n",
    "# Elegir mejor k\n",
    "best_k = max(silhouette_scores, key=lambda x: x[1])[0]\n",
    "print(f\"\\nMejor número de clústeres: {best_k}\")"
   ]
  },
  {
   "cell_type": "code",
   "execution_count": 84,
   "id": "990ccf3e",
   "metadata": {},
   "outputs": [
    {
     "name": "stdout",
     "output_type": "stream",
     "text": [
      "           Age  Total_App_Usage_Hours  Daily_Screen_Time_Hours  \\\n",
      "Cluster                                                          \n",
      "0        38.40                   5.59                     7.86   \n",
      "1        39.07                   7.17                     7.54   \n",
      "\n",
      "         Number_of_Apps_Used  Social_Media_Usage_Hours  \\\n",
      "Cluster                                                  \n",
      "0                      17.38                      2.40   \n",
      "1                      15.96                      2.51   \n",
      "\n",
      "         Productivity_App_Usage_Hours  Gaming_App_Usage_Hours  \n",
      "Cluster                                                        \n",
      "0                                2.57                    3.72  \n",
      "1                                2.42                    1.31  \n"
     ]
    }
   ],
   "source": [
    "kmeans_final = KMeans(n_clusters=2, random_state=42)\n",
    "df_mobile[\"Cluster\"] = kmeans_final.fit_predict(X_preprocessed)\n",
    "numeric_summary = df_mobile.groupby(\"Cluster\")[numerical_features].mean().round(2)\n",
    "print(numeric_summary)"
   ]
  },
  {
   "cell_type": "code",
   "execution_count": 85,
   "id": "6ae2d844",
   "metadata": {},
   "outputs": [
    {
     "data": {
      "text/plain": [
       "<Figure size 864x432 with 0 Axes>"
      ]
     },
     "metadata": {},
     "output_type": "display_data"
    },
    {
     "data": {
      "image/png": "[encoded data removed]",
      "text/plain": [
       "<Figure size 864x432 with 1 Axes>"
      ]
     },
     "metadata": {
      "needs_background": "light"
     },
     "output_type": "display_data"
    }
   ],
   "source": [
    "import pandas as pd\n",
    "import matplotlib.pyplot as plt\n",
    "\n",
    "plt.figure(figsize=(12, 6))\n",
    "numeric_summary.T.plot(kind=\"bar\", figsize=(12, 6))\n",
    "\n",
    "plt.title(\"Promedio de uso por categoría y clúster\")\n",
    "plt.ylabel(\"Valor promedio\")\n",
    "plt.xlabel(\"Categoría\")\n",
    "plt.xticks(rotation=45)\n",
    "plt.legend(title=\"Clúster\")\n",
    "plt.grid(axis=\"y\", linestyle=\"--\", alpha=0.5)\n",
    "plt.tight_layout()\n",
    "plt.show()\n"
   ]
  },
  {
   "cell_type": "code",
   "execution_count": 86,
   "id": "8cc4c2f1",
   "metadata": {},
   "outputs": [
    {
     "name": "stdout",
     "output_type": "stream",
     "text": [
      "Distribución por género (%):\n",
      " Gender   Female  Male\n",
      "Cluster              \n",
      "0          47.0  53.0\n",
      "1          50.0  50.0\n",
      "\n",
      "Top 3 ciudades por clúster (%):\n",
      " Cluster  Location\n",
      "0        New York    24.0\n",
      "         Chicago     21.0\n",
      "         Phoenix     19.0\n",
      "1        New York    24.0\n",
      "         Phoenix     21.0\n",
      "         Houston     19.0\n",
      "Name: proportion, dtype: float64\n"
     ]
    }
   ],
   "source": [
    "# Porcentaje de género por clúster\n",
    "gender_distribution = pd.crosstab(df_mobile[\"Cluster\"], df_mobile[\"Gender\"], normalize='index').round(2) * 100\n",
    "\n",
    "# Top 3 ciudades por clúster\n",
    "top_locations = df_mobile.groupby(\"Cluster\")[\"Location\"].value_counts(normalize=True).groupby(level=0).head(3).round(2) * 100\n",
    "\n",
    "print(\"Distribución por género (%):\\n\", gender_distribution)\n",
    "print(\"\\nTop 3 ciudades por clúster (%):\\n\", top_locations)"
   ]
  },
  {
   "cell_type": "code",
   "execution_count": 87,
   "id": "24bee992",
   "metadata": {},
   "outputs": [
    {
     "data": {
      "image/png": "[encoded data removed]",
      "text/plain": [
       "<Figure size 576x360 with 1 Axes>"
      ]
     },
     "metadata": {
      "needs_background": "light"
     },
     "output_type": "display_data"
    }
   ],
   "source": [
    "import seaborn as sns\n",
    "\n",
    "gender_distribution = pd.crosstab(df_mobile[\"Cluster\"], df_mobile[\"Gender\"], normalize='index') * 100\n",
    "gender_distribution.plot(kind='bar', stacked=True, colormap=\"Pastel1\", figsize=(8,5))\n",
    "\n",
    "plt.title(\"Distribución de género por clúster (%)\")\n",
    "plt.ylabel(\"Porcentaje\")\n",
    "plt.xticks(rotation=0)\n",
    "plt.legend(title=\"Género\")\n",
    "plt.tight_layout()\n",
    "plt.show()\n"
   ]
  },
  {
   "cell_type": "code",
   "execution_count": 88,
   "id": "4f7c0178",
   "metadata": {},
   "outputs": [
    {
     "data": {
      "image/png": "[encoded data removed]",
      "text/plain": [
       "<Figure size 720x432 with 1 Axes>"
      ]
     },
     "metadata": {
      "needs_background": "light"
     },
     "output_type": "display_data"
    }
   ],
   "source": [
    "# Calcular proporción de ciudades por clúster\n",
    "top_locations_series = (\n",
    "    df_mobile.groupby(\"Cluster\")[\"Location\"]\n",
    "    .value_counts(normalize=True)\n",
    "    .groupby(level=0)\n",
    "    .head(3)\n",
    ")\n",
    "\n",
    "# Convertir a DataFrame y redondear\n",
    "top_locations = top_locations_series.reset_index(name=\"Proporcion\")\n",
    "top_locations[\"Proporcion\"] = (top_locations[\"Proporcion\"] * 100).round(1)\n",
    "\n",
    "# Gráfico\n",
    "plt.figure(figsize=(10, 6))\n",
    "sns.barplot(data=top_locations, x=\"Location\", y=\"Proporcion\", hue=\"Cluster\", palette=\"Set2\")\n",
    "\n",
    "plt.title(\"Top 3 ciudades por clúster (%)\")\n",
    "plt.ylabel(\"Porcentaje\")\n",
    "plt.xlabel(\"Ciudad\")\n",
    "plt.tight_layout()\n",
    "plt.show()\n"
   ]
  },
  {
   "cell_type": "markdown",
   "id": "86c903c3",
   "metadata": {},
   "source": [
    "### Redes Bayesianas"
   ]
  },
  {
   "cell_type": "markdown",
   "id": "27617069",
   "metadata": {},
   "source": [
    "Para trabajar con redes bayesianas, se requiere que todas las variables sean categóricas y discretas."
   ]
  },
  {
   "cell_type": "code",
   "execution_count": 89,
   "id": "620ea277",
   "metadata": {},
   "outputs": [],
   "source": [
    "df_bn = df_mobile[[\n",
    "    \"Age\", \"Gender\", \"Location\",\n",
    "    \"Social_Media_Usage_Hours\", \n",
    "    \"Productivity_App_Usage_Hours\", \n",
    "    \"Gaming_App_Usage_Hours\"\n",
    "]].copy()\n",
    "\n",
    "def discretize_terciles(series, name):\n",
    "    return pd.qcut(series, q=3, labels=[f\"{name}_Low\", f\"{name}_Medium\", f\"{name}_High\"])\n",
    "\n",
    "df_bn[\"AgeGroup\"] = pd.qcut(df_bn[\"Age\"], q=3, labels=[\"Young\", \"Adult\", \"Senior\"])\n",
    "df_bn[\"SocialMediaUsage\"] = discretize_terciles(df_bn[\"Social_Media_Usage_Hours\"], \"Social\")\n",
    "df_bn[\"ProductivityUsage\"] = discretize_terciles(df_bn[\"Productivity_App_Usage_Hours\"], \"Prod\")\n",
    "df_bn[\"GamingUsage\"] = discretize_terciles(df_bn[\"Gaming_App_Usage_Hours\"], \"Game\")\n",
    "\n",
    "df_bn_final = df_bn[[\"AgeGroup\", \"Gender\", \"Location\", \"SocialMediaUsage\", \"ProductivityUsage\", \"GamingUsage\"]]"
   ]
  },
  {
   "cell_type": "code",
   "execution_count": 90,
   "id": "91950eb9",
   "metadata": {},
   "outputs": [
    {
     "name": "stderr",
     "output_type": "stream",
     "text": [
      "INFO:pgmpy: Datatype (N=numerical, C=Categorical Unordered, O=Categorical Ordered) inferred from data: \n",
      " {'AgeGroup': 'O', 'Gender': 'C', 'Location': 'C', 'SocialMediaUsage': 'O', 'ProductivityUsage': 'O', 'GamingUsage': 'O'}\n",
      "INFO:pgmpy: Datatype (N=numerical, C=Categorical Unordered, O=Categorical Ordered) inferred from data: \n",
      " {'AgeGroup': 'O', 'Gender': 'C', 'Location': 'C', 'SocialMediaUsage': 'O', 'ProductivityUsage': 'O', 'GamingUsage': 'O'}\n",
      "INFO:pgmpy: Datatype (N=numerical, C=Categorical Unordered, O=Categorical Ordered) inferred from data: \n",
      " {'AgeGroup': 'O', 'Gender': 'C', 'Location': 'C', 'SocialMediaUsage': 'O', 'ProductivityUsage': 'O', 'GamingUsage': 'O'}\n"
     ]
    },
    {
     "data": {
      "application/vnd.jupyter.widget-view+json": {
       "model_id": "553718fb5fd541dc95ba6110b234056b",
       "version_major": 2,
       "version_minor": 0
      },
      "text/plain": [
       "  0%|          | 0/1000000 [00:00<?, ?it/s]"
      ]
     },
     "metadata": {},
     "output_type": "display_data"
    },
    {
     "name": "stderr",
     "output_type": "stream",
     "text": [
      "INFO:pgmpy: Datatype (N=numerical, C=Categorical Unordered, O=Categorical Ordered) inferred from data: \n",
      " {'AgeGroup': 'O', 'Gender': 'C', 'Location': 'C', 'SocialMediaUsage': 'O', 'ProductivityUsage': 'O', 'GamingUsage': 'O'}\n"
     ]
    },
    {
     "name": "stdout",
     "output_type": "stream",
     "text": [
      "Nodos aprendidos: []\n",
      "Aristas aprendidas: []\n"
     ]
    }
   ],
   "source": [
    "# 2. Entrenamiento de la red bayesiana\n",
    "from pgmpy.models import DiscreteBayesianNetwork\n",
    "from pgmpy.estimators import HillClimbSearch, BDs, BayesianEstimator\n",
    "from pgmpy.inference import VariableElimination\n",
    "\n",
    "hc = HillClimbSearch(df_bn_final)\n",
    "best_model = hc.estimate(scoring_method=BDs(df_bn_final))\n",
    "\n",
    "bn = DiscreteBayesianNetwork(best_model.edges())\n",
    "bn.fit(df_bn_final, estimator=BayesianEstimator, prior_type='BDeu')\n",
    "\n",
    "inference = VariableElimination(bn)\n",
    "\n",
    "print(\"Nodos aprendidos:\", bn.nodes())\n",
    "print(\"Aristas aprendidas:\", bn.edges())"
   ]
  },
  {
   "cell_type": "markdown",
   "id": "ff65b73e",
   "metadata": {},
   "source": [
    "Problema: El modelo aprendido no contenía ninguna relación (red vacía). Esto suele ocurrir cuando:\n",
    "\n",
    "- El número de combinaciones posibles es alto.\n",
    "\n",
    "- El score penaliza modelos complejos.\n",
    "\n",
    "- Las relaciones entre variables no son suficientemente fuertes para que el algoritmo las considere."
   ]
  },
  {
   "cell_type": "markdown",
   "id": "515ca68f",
   "metadata": {},
   "source": [
    "Solución: definimos una red sencilla y significativa manualmente, basada en supuestos razonables:"
   ]
  },
  {
   "cell_type": "code",
   "execution_count": 91,
   "id": "70cf3445",
   "metadata": {},
   "outputs": [],
   "source": [
    "# Crear red manualmente\n",
    "manual_model = DiscreteBayesianNetwork([\n",
    "    (\"AgeGroup\", \"SocialMediaUsage\"),\n",
    "    (\"AgeGroup\", \"ProductivityUsage\"),\n",
    "    (\"AgeGroup\", \"GamingUsage\"),\n",
    "    (\"Gender\", \"SocialMediaUsage\"),\n",
    "    (\"Gender\", \"ProductivityUsage\"),\n",
    "    (\"Location\", \"SocialMediaUsage\")\n",
    "])"
   ]
  },
  {
   "cell_type": "code",
   "execution_count": 92,
   "id": "7f42b589",
   "metadata": {},
   "outputs": [
    {
     "name": "stderr",
     "output_type": "stream",
     "text": [
      "INFO:pgmpy: Datatype (N=numerical, C=Categorical Unordered, O=Categorical Ordered) inferred from data: \n",
      " {'AgeGroup': 'O', 'Gender': 'C', 'Location': 'C', 'SocialMediaUsage': 'O', 'ProductivityUsage': 'O', 'GamingUsage': 'O'}\n"
     ]
    }
   ],
   "source": [
    "# Ajustar CPDs usando los datos discretizados\n",
    "manual_model.fit(df_bn_final, estimator=BayesianEstimator, prior_type=\"BDeu\")\n",
    "# Crear motor de inferencia\n",
    "inference = VariableElimination(manual_model)"
   ]
  },
  {
   "cell_type": "markdown",
   "id": "7084625b",
   "metadata": {},
   "source": [
    "Consultas relevantes:\n",
    "\n",
    "1. ¿Qué probabilidad hay de que una persona joven tenga alto uso de apps de productividad?"
   ]
  },
  {
   "cell_type": "code",
   "execution_count": 93,
   "id": "7fbde575",
   "metadata": {},
   "outputs": [
    {
     "name": "stdout",
     "output_type": "stream",
     "text": [
      "+--------------------------------+--------------------------+\n",
      "| ProductivityUsage              |   phi(ProductivityUsage) |\n",
      "+================================+==========================+\n",
      "| ProductivityUsage(Prod_High)   |                   0.3061 |\n",
      "+--------------------------------+--------------------------+\n",
      "| ProductivityUsage(Prod_Low)    |                   0.3380 |\n",
      "+--------------------------------+--------------------------+\n",
      "| ProductivityUsage(Prod_Medium) |                   0.3559 |\n",
      "+--------------------------------+--------------------------+\n"
     ]
    }
   ],
   "source": [
    "resultado1 = inference.query(\n",
    "    variables=[\"ProductivityUsage\"],\n",
    "    evidence={\"AgeGroup\": \"Young\"}\n",
    ")\n",
    "print(resultado1)"
   ]
  },
  {
   "cell_type": "markdown",
   "id": "3b977415",
   "metadata": {},
   "source": [
    "Incluso al condicionar por ser joven, las probabilidades de uso alto, medio o bajo de aplicaciones de productividad son bastante equilibradas, sin una tendencia fuerte. Esto indica que ser joven no predice claramente el nivel de uso de este tipo de apps."
   ]
  },
  {
   "cell_type": "markdown",
   "id": "3d6ba2ce",
   "metadata": {},
   "source": [
    "2. ¿Cómo cambia la probabilidad de uso alto de redes sociales si es mujer y vive en Nueva York?"
   ]
  },
  {
   "cell_type": "code",
   "execution_count": 94,
   "id": "edc66636",
   "metadata": {},
   "outputs": [
    {
     "name": "stdout",
     "output_type": "stream",
     "text": [
      "+---------------------------------+-------------------------+\n",
      "| SocialMediaUsage                |   phi(SocialMediaUsage) |\n",
      "+=================================+=========================+\n",
      "| SocialMediaUsage(Social_High)   |                  0.3385 |\n",
      "+---------------------------------+-------------------------+\n",
      "| SocialMediaUsage(Social_Low)    |                  0.3506 |\n",
      "+---------------------------------+-------------------------+\n",
      "| SocialMediaUsage(Social_Medium) |                  0.3108 |\n",
      "+---------------------------------+-------------------------+\n"
     ]
    }
   ],
   "source": [
    "resultado2 = inference.query(\n",
    "    variables=[\"SocialMediaUsage\"],\n",
    "    evidence={\"Gender\": \"Female\", \"Location\": \"New York\"}\n",
    ")\n",
    "print(resultado2)"
   ]
  },
  {
   "cell_type": "markdown",
   "id": "145abe8b",
   "metadata": {},
   "source": [
    "Tampoco aquí se observa una preferencia clara. A pesar de tener dos evidencias (género y ubicación), la distribución de probabilidades es prácticamente uniforme. Esto sugiere que el género y la ubicación no están fuertemente relacionadas con el uso de redes sociales en este conjunto de datos."
   ]
  },
  {
   "cell_type": "markdown",
   "id": "ee5c8b07",
   "metadata": {},
   "source": [
    "3. ¿Qué tan probable es que una persona adulta y hombre tenga bajo uso de juegos?"
   ]
  },
  {
   "cell_type": "code",
   "execution_count": 95,
   "id": "9c391cdc",
   "metadata": {},
   "outputs": [
    {
     "name": "stdout",
     "output_type": "stream",
     "text": [
      "+--------------------------+--------------------+\n",
      "| GamingUsage              |   phi(GamingUsage) |\n",
      "+==========================+====================+\n",
      "| GamingUsage(Game_High)   |             0.3575 |\n",
      "+--------------------------+--------------------+\n",
      "| GamingUsage(Game_Low)    |             0.2972 |\n",
      "+--------------------------+--------------------+\n",
      "| GamingUsage(Game_Medium) |             0.3454 |\n",
      "+--------------------------+--------------------+\n"
     ]
    }
   ],
   "source": [
    "resultado3 = inference.query(\n",
    "    variables=[\"GamingUsage\"],\n",
    "    evidence={\"AgeGroup\": \"Adult\", \"Gender\": \"Male\"}\n",
    ")\n",
    "print(resultado3)"
   ]
  },
  {
   "cell_type": "markdown",
   "id": "cb9b220c",
   "metadata": {},
   "source": [
    "Aunque hay una leve mayor probabilidad de alto uso de juegos en hombres adultos, la diferencia no es lo suficientemente significativa como para afirmar una relación causal o fuerte. Nuevamente, las probabilidades se reparten de forma bastante balanceada."
   ]
  },
  {
   "cell_type": "markdown",
   "id": "8c390831",
   "metadata": {},
   "source": [
    "A partir del modelo de red bayesiana entrenado:\n",
    "\n",
    "No se detectaron dependencias fuertes o relevantes entre las variables demográficas (edad, género, ciudad) y los patrones de uso de apps.\n",
    "\n",
    "Las probabilidades condicionales se mantienen muy cercanas a las marginales, lo que sugiere que estas variables son casi independientes respecto a los hábitos de uso en este conjunto de datos.\n",
    "\n",
    "La red aprendida no contiene muchas conexiones (en algunos casos, ninguna), lo cual es un resultado válido y útil: nos indica que los hábitos de uso en esta muestra no dependen fuertemente del perfil demográfico.\n",
    "\n",
    "Esto refuerza lo encontrado en el análisis por clustering: las diferencias entre tipos de usuarios se dan más por sus comportamientos de uso que por características demográficas."
   ]
  }
 ],
 "metadata": {
  "kernelspec": {
   "display_name": "Python 3",
   "language": "python",
   "name": "python3"
  },
  "language_info": {
   "codemirror_mode": {
    "name": "ipython",
    "version": 3
   },
   "file_extension": ".py",
   "mimetype": "text/x-python",
   "name": "python",
   "nbconvert_exporter": "python",
   "pygments_lexer": "ipython3",
   "version": "3.10.6"
  }
 },
 "nbformat": 4,
 "nbformat_minor": 5
}
