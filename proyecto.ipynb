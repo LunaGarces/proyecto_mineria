{
 "cells": [
  {
   "cell_type": "markdown",
   "id": "67af21ca",
   "metadata": {},
   "source": [
    "<h1><center>Entrega 2</h1>"
   ]
  },
  {
   "cell_type": "markdown",
   "id": "5d5b9179",
   "metadata": {},
   "source": [
    "# Librerias"
   ]
  },
  {
   "cell_type": "code",
   "execution_count": 1,
   "id": "68a32e69",
   "metadata": {},
   "outputs": [],
   "source": [
    "import pandas as pd\n",
    "import matplotlib.pyplot as plt"
   ]
  },
  {
   "cell_type": "markdown",
   "id": "12ac4e76",
   "metadata": {},
   "source": [
    "# Preguntas"
   ]
  },
  {
   "cell_type": "markdown",
   "id": "bec88f08",
   "metadata": {},
   "source": [
    "\n",
    "- Pregunta 1: **¿Existen combinaciones de apps que se descargan juntas? Ya que si ciertas apps se descargan juntas podemos estar frente a un “ecosistema digital”**\n",
    "\n",
    "\n",
    "- Pregunta 2: **¿Influye el rating de las aplicaciones con las descargas de estas? Porque esto ayuda al entendimiento de la confianza digital y las decisiones de descargas de los usuarios.**\n",
    "\n",
    "- Pregunta 3: **¿Existen días donde los usuarios tiendan a usar más una aplicacion que otra? Aquí podemos identificar diferentes patrones.** Esta en analisis_datos_T\n",
    " \n",
    "- Pregunta 4: **¿Qué tipo de usuarios tienden a usar ciertas categorías de apps? Con esto, se puede mejorar el enfoque de las aplicaciones o las estrategias de marketing** Esta en analis_datos_T"
   ]
  },
  {
   "cell_type": "markdown",
   "id": "f6c9e415",
   "metadata": {},
   "source": [
    "# Cargar archivos"
   ]
  },
  {
   "cell_type": "code",
   "execution_count": 2,
   "id": "b660ba2b",
   "metadata": {},
   "outputs": [],
   "source": [
    "play_store = pd.read_csv('apps.csv')\n",
    "play_store_user = pd.read_csv('user.csv')\n",
    "mbr = pd.read_csv('archivos_limpios\\mbr.csv')"
   ]
  },
  {
   "cell_type": "code",
   "execution_count": 3,
   "id": "f4ae1b0c",
   "metadata": {},
   "outputs": [
    {
     "data": {
      "text/html": [
       "<div>\n",
       "<style scoped>\n",
       "    .dataframe tbody tr th:only-of-type {\n",
       "        vertical-align: middle;\n",
       "    }\n",
       "\n",
       "    .dataframe tbody tr th {\n",
       "        vertical-align: top;\n",
       "    }\n",
       "\n",
       "    .dataframe thead th {\n",
       "        text-align: right;\n",
       "    }\n",
       "</style>\n",
       "<table border=\"1\" class=\"dataframe\">\n",
       "  <thead>\n",
       "    <tr style=\"text-align: right;\">\n",
       "      <th></th>\n",
       "      <th>App</th>\n",
       "      <th>Category</th>\n",
       "      <th>Rating</th>\n",
       "      <th>Reviews</th>\n",
       "      <th>Installs</th>\n",
       "      <th>Type</th>\n",
       "      <th>Price</th>\n",
       "      <th>Content Rating</th>\n",
       "      <th>Genres</th>\n",
       "    </tr>\n",
       "  </thead>\n",
       "  <tbody>\n",
       "    <tr>\n",
       "      <th>0</th>\n",
       "      <td>Photo Editor &amp; Candy Camera &amp; Grid &amp; ScrapBook</td>\n",
       "      <td>ART_AND_DESIGN</td>\n",
       "      <td>4.1</td>\n",
       "      <td>159</td>\n",
       "      <td>10000</td>\n",
       "      <td>0</td>\n",
       "      <td>0.0</td>\n",
       "      <td>0</td>\n",
       "      <td>Art &amp; Design</td>\n",
       "    </tr>\n",
       "    <tr>\n",
       "      <th>1</th>\n",
       "      <td>Coloring book moana</td>\n",
       "      <td>ART_AND_DESIGN</td>\n",
       "      <td>3.9</td>\n",
       "      <td>967</td>\n",
       "      <td>500000</td>\n",
       "      <td>0</td>\n",
       "      <td>0.0</td>\n",
       "      <td>0</td>\n",
       "      <td>Art &amp; Design;Pretend Play</td>\n",
       "    </tr>\n",
       "    <tr>\n",
       "      <th>2</th>\n",
       "      <td>U Launcher Lite – FREE Live Cool Themes, Hide ...</td>\n",
       "      <td>ART_AND_DESIGN</td>\n",
       "      <td>4.7</td>\n",
       "      <td>87510</td>\n",
       "      <td>5000000</td>\n",
       "      <td>0</td>\n",
       "      <td>0.0</td>\n",
       "      <td>0</td>\n",
       "      <td>Art &amp; Design</td>\n",
       "    </tr>\n",
       "    <tr>\n",
       "      <th>3</th>\n",
       "      <td>Sketch - Draw &amp; Paint</td>\n",
       "      <td>ART_AND_DESIGN</td>\n",
       "      <td>4.5</td>\n",
       "      <td>215644</td>\n",
       "      <td>50000000</td>\n",
       "      <td>0</td>\n",
       "      <td>0.0</td>\n",
       "      <td>1</td>\n",
       "      <td>Art &amp; Design</td>\n",
       "    </tr>\n",
       "    <tr>\n",
       "      <th>4</th>\n",
       "      <td>Pixel Draw - Number Art Coloring Book</td>\n",
       "      <td>ART_AND_DESIGN</td>\n",
       "      <td>4.3</td>\n",
       "      <td>967</td>\n",
       "      <td>100000</td>\n",
       "      <td>0</td>\n",
       "      <td>0.0</td>\n",
       "      <td>0</td>\n",
       "      <td>Art &amp; Design;Creativity</td>\n",
       "    </tr>\n",
       "  </tbody>\n",
       "</table>\n",
       "</div>"
      ],
      "text/plain": [
       "                                                 App        Category  Rating  \\\n",
       "0     Photo Editor & Candy Camera & Grid & ScrapBook  ART_AND_DESIGN     4.1   \n",
       "1                                Coloring book moana  ART_AND_DESIGN     3.9   \n",
       "2  U Launcher Lite – FREE Live Cool Themes, Hide ...  ART_AND_DESIGN     4.7   \n",
       "3                              Sketch - Draw & Paint  ART_AND_DESIGN     4.5   \n",
       "4              Pixel Draw - Number Art Coloring Book  ART_AND_DESIGN     4.3   \n",
       "\n",
       "   Reviews  Installs  Type  Price  Content Rating                     Genres  \n",
       "0      159     10000     0    0.0               0               Art & Design  \n",
       "1      967    500000     0    0.0               0  Art & Design;Pretend Play  \n",
       "2    87510   5000000     0    0.0               0               Art & Design  \n",
       "3   215644  50000000     0    0.0               1               Art & Design  \n",
       "4      967    100000     0    0.0               0    Art & Design;Creativity  "
      ]
     },
     "execution_count": 3,
     "metadata": {},
     "output_type": "execute_result"
    }
   ],
   "source": [
    "play_store.head()"
   ]
  },
  {
   "cell_type": "markdown",
   "id": "e25107d3",
   "metadata": {},
   "source": [
    "\n",
    "`play_store` contiene **información técnica, comercial y de clasificación sobre las aplicaciones de la Play Store**\n",
    "\n",
    "* **App**: Nombre de la aplicacion.\n",
    "* **Category**: Categoría general a la que pertenece la aplicacion (*Tools*, *Game*, *Education*).\n",
    "* **Rating**: Calificación promedio otorgada por los usuarios (1 a 5).\n",
    "* **Reviews**: Numero total de reseñas recibidas por la aplicacion.\n",
    "* **Installs**: Numero de instalaciones de la aplicacion registradas.\n",
    "* **Price**: Precio de la aplicacion.\n",
    "* **Content Rating**: Clasificación por edad del contenido de la aplicacion (*Everyone*, *Teen*, *Mature 17+*).\n",
    "* **Genres**: Generos a los que pertenece la aplicacion."
   ]
  },
  {
   "cell_type": "code",
   "execution_count": 4,
   "id": "3a3a3f8b",
   "metadata": {},
   "outputs": [
    {
     "data": {
      "text/html": [
       "<div>\n",
       "<style scoped>\n",
       "    .dataframe tbody tr th:only-of-type {\n",
       "        vertical-align: middle;\n",
       "    }\n",
       "\n",
       "    .dataframe tbody tr th {\n",
       "        vertical-align: top;\n",
       "    }\n",
       "\n",
       "    .dataframe thead th {\n",
       "        text-align: right;\n",
       "    }\n",
       "</style>\n",
       "<table border=\"1\" class=\"dataframe\">\n",
       "  <thead>\n",
       "    <tr style=\"text-align: right;\">\n",
       "      <th></th>\n",
       "      <th>App</th>\n",
       "      <th>Translated_Review</th>\n",
       "      <th>Sentiment</th>\n",
       "      <th>Sentiment_Polarity</th>\n",
       "      <th>Sentiment_Subjectivity</th>\n",
       "    </tr>\n",
       "  </thead>\n",
       "  <tbody>\n",
       "    <tr>\n",
       "      <th>0</th>\n",
       "      <td>10 Best Foods for You</td>\n",
       "      <td>I like eat delicious food. That's I'm cooking ...</td>\n",
       "      <td>1</td>\n",
       "      <td>1.00</td>\n",
       "      <td>0.533333</td>\n",
       "    </tr>\n",
       "    <tr>\n",
       "      <th>1</th>\n",
       "      <td>10 Best Foods for You</td>\n",
       "      <td>This help eating healthy exercise regular basis</td>\n",
       "      <td>1</td>\n",
       "      <td>0.25</td>\n",
       "      <td>0.288462</td>\n",
       "    </tr>\n",
       "    <tr>\n",
       "      <th>2</th>\n",
       "      <td>10 Best Foods for You</td>\n",
       "      <td>Works great especially going grocery store</td>\n",
       "      <td>1</td>\n",
       "      <td>0.40</td>\n",
       "      <td>0.875000</td>\n",
       "    </tr>\n",
       "    <tr>\n",
       "      <th>3</th>\n",
       "      <td>10 Best Foods for You</td>\n",
       "      <td>Best idea us</td>\n",
       "      <td>1</td>\n",
       "      <td>1.00</td>\n",
       "      <td>0.300000</td>\n",
       "    </tr>\n",
       "    <tr>\n",
       "      <th>4</th>\n",
       "      <td>10 Best Foods for You</td>\n",
       "      <td>Best way</td>\n",
       "      <td>1</td>\n",
       "      <td>1.00</td>\n",
       "      <td>0.300000</td>\n",
       "    </tr>\n",
       "  </tbody>\n",
       "</table>\n",
       "</div>"
      ],
      "text/plain": [
       "                     App                                  Translated_Review  \\\n",
       "0  10 Best Foods for You  I like eat delicious food. That's I'm cooking ...   \n",
       "1  10 Best Foods for You    This help eating healthy exercise regular basis   \n",
       "2  10 Best Foods for You         Works great especially going grocery store   \n",
       "3  10 Best Foods for You                                       Best idea us   \n",
       "4  10 Best Foods for You                                           Best way   \n",
       "\n",
       "   Sentiment  Sentiment_Polarity  Sentiment_Subjectivity  \n",
       "0          1                1.00                0.533333  \n",
       "1          1                0.25                0.288462  \n",
       "2          1                0.40                0.875000  \n",
       "3          1                1.00                0.300000  \n",
       "4          1                1.00                0.300000  "
      ]
     },
     "execution_count": 4,
     "metadata": {},
     "output_type": "execute_result"
    }
   ],
   "source": [
    "play_store_user.head()"
   ]
  },
  {
   "cell_type": "markdown",
   "id": "7b025581",
   "metadata": {},
   "source": [
    "`play_store_user` contiene **reseñas de usuarios sobre distintas aplicaciones de la Play Store**\n",
    "\n",
    "* **App**: Nombre de la aplicacion a la que corresponde la reseña del usuario.\n",
    "* **Translated_Review**: Texto de la reseña del usuario.\n",
    "* **Sentiment**: Clasificacion general en la reseña. Puede ser *Positive*, *Neutral* o *Negative*.\n",
    "* **Sentiment_Polarity**: Numero del sentimiento, donde -1  sentimiento muy negativo y 1  positivo.\n",
    "* **Sentiment_Subjectivity**: Numero de cuan subjetiva es la reseña, donde 0 indica hechos y 1 opiniones personales."
   ]
  },
  {
   "cell_type": "code",
   "execution_count": 5,
   "id": "292a16bb",
   "metadata": {},
   "outputs": [
    {
     "data": {
      "text/html": [
       "<div>\n",
       "<style scoped>\n",
       "    .dataframe tbody tr th:only-of-type {\n",
       "        vertical-align: middle;\n",
       "    }\n",
       "\n",
       "    .dataframe tbody tr th {\n",
       "        vertical-align: top;\n",
       "    }\n",
       "\n",
       "    .dataframe thead th {\n",
       "        text-align: right;\n",
       "    }\n",
       "</style>\n",
       "<table border=\"1\" class=\"dataframe\">\n",
       "  <thead>\n",
       "    <tr style=\"text-align: right;\">\n",
       "      <th></th>\n",
       "      <th>app_package</th>\n",
       "      <th>review</th>\n",
       "      <th>rating</th>\n",
       "      <th>votes</th>\n",
       "      <th>uid</th>\n",
       "      <th>formated_date</th>\n",
       "      <th>app_category</th>\n",
       "    </tr>\n",
       "  </thead>\n",
       "  <tbody>\n",
       "    <tr>\n",
       "      <th>0</th>\n",
       "      <td>com.cleverapps.heroes</td>\n",
       "      <td>It's really a fun game</td>\n",
       "      <td>5</td>\n",
       "      <td>1</td>\n",
       "      <td>shqoc6X1fcJRLEmx</td>\n",
       "      <td>2018-10-21</td>\n",
       "      <td>Casual</td>\n",
       "    </tr>\n",
       "    <tr>\n",
       "      <th>1</th>\n",
       "      <td>com.bodyfast</td>\n",
       "      <td>uninstalling. it was ok but felt like it was c...</td>\n",
       "      <td>2</td>\n",
       "      <td>0</td>\n",
       "      <td>shqoc6X1fcJRLEmx</td>\n",
       "      <td>2019-01-18</td>\n",
       "      <td>Health &amp; Fitness</td>\n",
       "    </tr>\n",
       "    <tr>\n",
       "      <th>2</th>\n",
       "      <td>com.thrivegames.wordshapes</td>\n",
       "      <td>Love this game</td>\n",
       "      <td>4</td>\n",
       "      <td>1</td>\n",
       "      <td>shqoc6X1fcJRLEmx</td>\n",
       "      <td>2021-01-16</td>\n",
       "      <td>Word</td>\n",
       "    </tr>\n",
       "    <tr>\n",
       "      <th>3</th>\n",
       "      <td>com.affinity.rewarded_play</td>\n",
       "      <td>Doesn't update play time. Just downloaded it 3...</td>\n",
       "      <td>1</td>\n",
       "      <td>1</td>\n",
       "      <td>shqoc6X1fcJRLEmx</td>\n",
       "      <td>2021-11-04</td>\n",
       "      <td>Entertainment</td>\n",
       "    </tr>\n",
       "    <tr>\n",
       "      <th>4</th>\n",
       "      <td>dating.inmessage.net</td>\n",
       "      <td>app crashes every time I try to log in. what g...</td>\n",
       "      <td>1</td>\n",
       "      <td>0</td>\n",
       "      <td>shqoc6X1fcJRLEmx</td>\n",
       "      <td>2021-11-24</td>\n",
       "      <td>Dating</td>\n",
       "    </tr>\n",
       "  </tbody>\n",
       "</table>\n",
       "</div>"
      ],
      "text/plain": [
       "                  app_package  \\\n",
       "0       com.cleverapps.heroes   \n",
       "1                com.bodyfast   \n",
       "2  com.thrivegames.wordshapes   \n",
       "3  com.affinity.rewarded_play   \n",
       "4        dating.inmessage.net   \n",
       "\n",
       "                                              review  rating  votes  \\\n",
       "0                             It's really a fun game       5      1   \n",
       "1  uninstalling. it was ok but felt like it was c...       2      0   \n",
       "2                                     Love this game       4      1   \n",
       "3  Doesn't update play time. Just downloaded it 3...       1      1   \n",
       "4  app crashes every time I try to log in. what g...       1      0   \n",
       "\n",
       "                uid formated_date      app_category  \n",
       "0  shqoc6X1fcJRLEmx    2018-10-21            Casual  \n",
       "1  shqoc6X1fcJRLEmx    2019-01-18  Health & Fitness  \n",
       "2  shqoc6X1fcJRLEmx    2021-01-16              Word  \n",
       "3  shqoc6X1fcJRLEmx    2021-11-04     Entertainment  \n",
       "4  shqoc6X1fcJRLEmx    2021-11-24            Dating  "
      ]
     },
     "execution_count": 5,
     "metadata": {},
     "output_type": "execute_result"
    }
   ],
   "source": [
    "mbr.head()"
   ]
  },
  {
   "cell_type": "markdown",
   "id": "6fe421ec",
   "metadata": {},
   "source": [
    "`mbr`contiene **registros individuales de evaluaciones hechas por usuarios a diferentes aplicaciones**\n",
    "\n",
    "* **app_package**: Identificador del paquete de la aplicacion (nombre del archivo de la app en Play Store).\n",
    "* **review**: La reseña del usuario\n",
    "* **rating**: Calificación otorgada por el usuario a la aplicacion escala de 1 a 5 estrellas.\n",
    "* **votes**: Número de votos o interacciones que ha recibido esa evaluacion\n",
    "* **uid**: Identificador unico del usuario que emitió la evaluación.\n",
    "* **formated_date**: Fecha en que se realizó la evaluación, en formato de texto.\n",
    "* **app_category**: Categoría a la que pertenece la aplicacion (*Social*, *Productivity*, *Games*).\n"
   ]
  },
  {
   "cell_type": "markdown",
   "id": "e028ed3c",
   "metadata": {},
   "source": [
    "# Merge"
   ]
  },
  {
   "cell_type": "code",
   "execution_count": 6,
   "id": "e74cd288",
   "metadata": {},
   "outputs": [],
   "source": [
    "df_merge_store = pd.merge(play_store, play_store_user, on='App', how='inner')"
   ]
  },
  {
   "cell_type": "markdown",
   "id": "bfc33161",
   "metadata": {},
   "source": [
    "### Las categorias son"
   ]
  },
  {
   "cell_type": "code",
   "execution_count": 7,
   "id": "ba339dc1",
   "metadata": {},
   "outputs": [
    {
     "data": {
      "text/plain": [
       "array(['ART_AND_DESIGN', 'AUTO_AND_VEHICLES', 'BEAUTY',\n",
       "       'BOOKS_AND_REFERENCE', 'BUSINESS', 'COMICS', 'COMMUNICATION',\n",
       "       'DATING', 'EDUCATION', 'ENTERTAINMENT', 'EVENTS', 'FINANCE',\n",
       "       'FOOD_AND_DRINK', 'HEALTH_AND_FITNESS', 'HOUSE_AND_HOME',\n",
       "       'LIBRARIES_AND_DEMO', 'LIFESTYLE', 'GAME', 'FAMILY', 'MEDICAL',\n",
       "       'SOCIAL', 'SHOPPING', 'PHOTOGRAPHY', 'SPORTS', 'TRAVEL_AND_LOCAL',\n",
       "       'TOOLS', 'PERSONALIZATION', 'PRODUCTIVITY', 'PARENTING', 'WEATHER',\n",
       "       'VIDEO_PLAYERS', 'NEWS_AND_MAGAZINES', 'MAPS_AND_NAVIGATION'],\n",
       "      dtype=object)"
      ]
     },
     "execution_count": 7,
     "metadata": {},
     "output_type": "execute_result"
    }
   ],
   "source": [
    "df_merge_store[\"Category\"].unique()"
   ]
  },
  {
   "cell_type": "code",
   "execution_count": 8,
   "id": "19e158b5",
   "metadata": {},
   "outputs": [
    {
     "name": "stdout",
     "output_type": "stream",
     "text": [
      "Categorías únicas de apps:\n",
      "['Casual' 'Health & Fitness' 'Word' 'Entertainment' 'Dating' 'Shopping'\n",
      " 'Education' 'Business' 'Libraries & Demo' 'Weather' 'Puzzle'\n",
      " 'Personalization' 'Simulation' 'Maps & Navigation' 'Action'\n",
      " 'Role Playing' 'Productivity' 'Sports' 'Communication' 'Tools' 'Beauty'\n",
      " 'Educational' 'Photography' 'Board' 'Music & Audio' 'Finance'\n",
      " 'Books & Reference' 'Lifestyle' 'Strategy' 'Racing' 'Trivia' 'Parenting'\n",
      " 'Arcade' 'Adventure' 'Travel & Local' 'Card' 'Casino'\n",
      " 'Video Players & Editors' 'Food & Drink' 'Medical' 'Comics'\n",
      " 'News & Magazines' 'Music' 'Social' 'Events' 'Art & Design'\n",
      " 'House & Home' 'Auto & Vehicles']\n"
     ]
    }
   ],
   "source": [
    "print(\"Categorías únicas de apps:\")\n",
    "print(mbr['app_category'].unique())"
   ]
  },
  {
   "cell_type": "markdown",
   "id": "362f5fdf",
   "metadata": {},
   "source": [
    "### Acortar categorias"
   ]
  },
  {
   "cell_type": "code",
   "execution_count": 9,
   "id": "dad458d4",
   "metadata": {},
   "outputs": [],
   "source": [
    "# Diccionario para agrupar categorías\n",
    "\n",
    "\n",
    "# Play Store categories to a more general category\n",
    "category_mapping = {\n",
    "    'ART_AND_DESIGN': 'Art',\n",
    "    'AUTO_AND_VEHICLES': 'Auto',\n",
    "    'BEAUTY': 'Lifestyle',\n",
    "    'BOOKS_AND_REFERENCE': 'Books',\n",
    "    'BUSINESS': 'Business',\n",
    "    'COMICS': 'Entertainment',\n",
    "    'COMMUNICATION': 'Communication',\n",
    "    'DATING': 'Social',\n",
    "    'EDUCATION': 'Education',\n",
    "    'ENTERTAINMENT': 'Entertainment',\n",
    "    'EVENTS': 'Lifestyle',\n",
    "    'FINANCE': 'Finance',\n",
    "    'FOOD_AND_DRINK': 'Food',\n",
    "    'HEALTH_AND_FITNESS': 'Health',\n",
    "    'HOUSE_AND_HOME': 'Lifestyle',\n",
    "    'LIBRARIES_AND_DEMO': 'Tools',\n",
    "    'LIFESTYLE': 'Lifestyle',\n",
    "    'GAME': 'Games',\n",
    "    'FAMILY': 'Games',\n",
    "    'MEDICAL': 'Health',\n",
    "    'SOCIAL': 'Social',\n",
    "    'SHOPPING': 'Shopping',\n",
    "    'PHOTOGRAPHY': 'Photography',\n",
    "    'SPORTS': 'Sports',\n",
    "    'TRAVEL_AND_LOCAL': 'Travel',\n",
    "    'TOOLS': 'Tools',\n",
    "    'PERSONALIZATION': 'Tools',\n",
    "    'PRODUCTIVITY': 'Productivity',\n",
    "    'PARENTING': 'Family',\n",
    "    'WEATHER': 'Weather',\n",
    "    'VIDEO_PLAYERS': 'Entertainment',\n",
    "    'NEWS_AND_MAGAZINES': 'News',\n",
    "    'MAPS_AND_NAVIGATION': 'Travel',\n",
    "}\n",
    "\n",
    "# mbr categories to a more general category\n",
    "mbr_to_play_mapping = {\n",
    "    'Casual': 'Games',\n",
    "    'Health & Fitness': 'Health',\n",
    "    'Word': 'Games',\n",
    "    'Entertainment': 'Entertainment',\n",
    "    'Dating': 'Social',\n",
    "    'Shopping': 'Shopping',\n",
    "    'Education': 'Education',\n",
    "    'Business': 'Business',\n",
    "    'Libraries & Demo': 'Tools',\n",
    "    'Weather': 'Weather',\n",
    "    'Puzzle': 'Games',\n",
    "    'Personalization': 'Tools',\n",
    "    'Simulation': 'Games',\n",
    "    'Maps & Navigation': 'Travel',\n",
    "    'Action': 'Games',\n",
    "    'Role Playing': 'Games',\n",
    "    'Productivity': 'Productivity',\n",
    "    'Sports': 'Sports',\n",
    "    'Communication': 'Communication',\n",
    "    'Tools': 'Tools',\n",
    "    'Beauty': 'Lifestyle',\n",
    "    'Educational': 'Education',\n",
    "    'Photography': 'Photography',\n",
    "    'Board': 'Games',\n",
    "    'Music & Audio': 'Entertainment',\n",
    "    'Finance': 'Finance',\n",
    "    'Books & Reference': 'Books',\n",
    "    'Lifestyle': 'Lifestyle',\n",
    "    'Strategy': 'Games',\n",
    "    'Racing': 'Games',\n",
    "    'Trivia': 'Games',\n",
    "    'Parenting': 'Family',\n",
    "    'Arcade': 'Games',\n",
    "    'Adventure': 'Games',\n",
    "    'Travel & Local': 'Travel',\n",
    "    'Card': 'Games',\n",
    "    'Casino': 'Games',\n",
    "    'Video Players & Editors': 'Entertainment',\n",
    "    'Food & Drink': 'Food',\n",
    "    'Medical': 'Health',\n",
    "    'Comics': 'Entertainment',\n",
    "    'News & Magazines': 'News',\n",
    "    'Music': 'Entertainment',\n",
    "    'Social': 'Social',\n",
    "    'Events': 'Lifestyle',\n",
    "    'Art & Design': 'Art',\n",
    "    'House & Home': 'Lifestyle',\n",
    "    'Auto & Vehicles': 'Auto'\n",
    "}\n",
    "\n",
    "\n"
   ]
  },
  {
   "cell_type": "code",
   "execution_count": 10,
   "id": "e84b1393",
   "metadata": {},
   "outputs": [
    {
     "data": {
      "text/plain": [
       "array(['Games', 'Health', 'Entertainment', 'Social', 'Shopping',\n",
       "       'Education', 'Business', 'Tools', 'Weather', 'Travel',\n",
       "       'Productivity', 'Sports', 'Communication', 'Lifestyle',\n",
       "       'Photography', 'Finance', 'Books', 'Family', 'Food', 'News', 'Art',\n",
       "       'Auto'], dtype=object)"
      ]
     },
     "execution_count": 10,
     "metadata": {},
     "output_type": "execute_result"
    }
   ],
   "source": [
    "mbr['Category_Reduced'] = mbr['app_category'].map(mbr_to_play_mapping).fillna('Other')\n",
    "mbr[\"Category_Reduced\"].unique()"
   ]
  },
  {
   "cell_type": "code",
   "execution_count": 11,
   "id": "339cee1e",
   "metadata": {},
   "outputs": [
    {
     "data": {
      "text/plain": [
       "array(['Art', 'Auto', 'Lifestyle', 'Books', 'Business', 'Entertainment',\n",
       "       'Communication', 'Social', 'Education', 'Finance', 'Food',\n",
       "       'Health', 'Tools', 'Games', 'Shopping', 'Photography', 'Sports',\n",
       "       'Travel', 'Productivity', 'Family', 'Weather', 'News'],\n",
       "      dtype=object)"
      ]
     },
     "execution_count": 11,
     "metadata": {},
     "output_type": "execute_result"
    }
   ],
   "source": [
    "df_merge_store['Category_Reduced'] = df_merge_store['Category'].map(category_mapping).fillna('Other')\n",
    "df_merge_store[\"Category_Reduced\"].unique()\n"
   ]
  },
  {
   "cell_type": "markdown",
   "id": "4422d749",
   "metadata": {},
   "source": [
    "# Graficos"
   ]
  },
  {
   "cell_type": "markdown",
   "id": "5551438e",
   "metadata": {},
   "source": [
    "### mbr"
   ]
  },
  {
   "cell_type": "code",
   "execution_count": 12,
   "id": "b35c2b60",
   "metadata": {},
   "outputs": [
    {
     "data": {
      "image/png": "[encoded data removed]",
      "text/plain": [
       "<Figure size 1000x700 with 1 Axes>"
      ]
     },
     "metadata": {},
     "output_type": "display_data"
    }
   ],
   "source": [
    "\n",
    "# Contar cuántas veces aparece cada categoría\n",
    "categoria_counts = mbr['Category_Reduced'].value_counts().sort_values(ascending=True)\n",
    "\n",
    "# Crear gráfico de barras horizontales\n",
    "plt.figure(figsize=(10, 7))\n",
    "categoria_counts.plot(kind='barh')\n",
    "\n",
    "plt.xlabel(\"Cantidad de registros\")\n",
    "plt.ylabel(\"Categoría (reducida)\")\n",
    "plt.title(\"Distribución de categorías en MBR (Category_Reduced)\")\n",
    "plt.tight_layout()\n",
    "plt.show()\n"
   ]
  },
  {
   "cell_type": "markdown",
   "id": "ce2e827d",
   "metadata": {},
   "source": [
    "### df_merge_store"
   ]
  },
  {
   "cell_type": "code",
   "execution_count": 13,
   "id": "1b706602",
   "metadata": {},
   "outputs": [
    {
     "data": {
      "image/png": "[encoded data removed]",
      "text/plain": [
       "<Figure size 1000x700 with 1 Axes>"
      ]
     },
     "metadata": {},
     "output_type": "display_data"
    }
   ],
   "source": [
    "# Contar cuántas veces aparece cada categoría\n",
    "categoria_counts = df_merge_store['Category_Reduced'].value_counts().sort_values(ascending=True)\n",
    "\n",
    "# Crear gráfico de barras horizontales\n",
    "plt.figure(figsize=(10, 7))\n",
    "categoria_counts.plot(kind='barh')\n",
    "\n",
    "plt.xlabel(\"Cantidad de registros\")\n",
    "plt.ylabel(\"Categoría (reducida)\")\n",
    "plt.title(\"Distribución de categorías en MBR (Category_Reduced)\")\n",
    "plt.tight_layout()\n",
    "plt.show()\n"
   ]
  },
  {
   "cell_type": "code",
   "execution_count": 14,
   "id": "99a420bd",
   "metadata": {},
   "outputs": [],
   "source": [
    "# guardar archivo\n",
    "df_merge_store.to_csv('archivos_limpios/df_merge_store.csv', index=False)"
   ]
  },
  {
   "cell_type": "markdown",
   "id": "8a941801",
   "metadata": {},
   "source": [
    "# Pregunta 1: ¿Existen combinaciones de apps que se descargan juntas? Ya que si ciertas apps se descargan juntas podemos estar frente a un “ecosistema digital”\n",
    " "
   ]
  },
  {
   "cell_type": "code",
   "execution_count": 21,
   "id": "f0f69115",
   "metadata": {},
   "outputs": [
    {
     "data": {
      "text/plain": [
       "Translated_Review\n",
       "Good         156\n",
       "Nice         117\n",
       "Great        104\n",
       "Love          95\n",
       "Awesome       67\n",
       "I love        64\n",
       "Very good     52\n",
       "I like        47\n",
       "good          41\n",
       "Cool          40\n",
       "Name: count, dtype: int64"
      ]
     },
     "execution_count": 21,
     "metadata": {},
     "output_type": "execute_result"
    }
   ],
   "source": [
    "df_merge_store['Translated_Review'].value_counts().head(10)\n"
   ]
  },
  {
   "cell_type": "code",
   "execution_count": 23,
   "id": "9b92b7e5",
   "metadata": {},
   "outputs": [
    {
     "data": {
      "text/html": [
       "<div>\n",
       "<style scoped>\n",
       "    .dataframe tbody tr th:only-of-type {\n",
       "        vertical-align: middle;\n",
       "    }\n",
       "\n",
       "    .dataframe tbody tr th {\n",
       "        vertical-align: top;\n",
       "    }\n",
       "\n",
       "    .dataframe thead th {\n",
       "        text-align: right;\n",
       "    }\n",
       "</style>\n",
       "<table border=\"1\" class=\"dataframe\">\n",
       "  <thead>\n",
       "    <tr style=\"text-align: right;\">\n",
       "      <th></th>\n",
       "      <th>app_package</th>\n",
       "      <th>review</th>\n",
       "      <th>rating</th>\n",
       "      <th>votes</th>\n",
       "      <th>uid</th>\n",
       "      <th>formated_date</th>\n",
       "      <th>app_category</th>\n",
       "      <th>Category_Reduced</th>\n",
       "    </tr>\n",
       "  </thead>\n",
       "  <tbody>\n",
       "    <tr>\n",
       "      <th>0</th>\n",
       "      <td>com.cleverapps.heroes</td>\n",
       "      <td>It's really a fun game</td>\n",
       "      <td>5</td>\n",
       "      <td>1</td>\n",
       "      <td>shqoc6X1fcJRLEmx</td>\n",
       "      <td>2018-10-21</td>\n",
       "      <td>Casual</td>\n",
       "      <td>Games</td>\n",
       "    </tr>\n",
       "    <tr>\n",
       "      <th>1</th>\n",
       "      <td>com.bodyfast</td>\n",
       "      <td>uninstalling. it was ok but felt like it was c...</td>\n",
       "      <td>2</td>\n",
       "      <td>0</td>\n",
       "      <td>shqoc6X1fcJRLEmx</td>\n",
       "      <td>2019-01-18</td>\n",
       "      <td>Health &amp; Fitness</td>\n",
       "      <td>Health</td>\n",
       "    </tr>\n",
       "    <tr>\n",
       "      <th>2</th>\n",
       "      <td>com.thrivegames.wordshapes</td>\n",
       "      <td>Love this game</td>\n",
       "      <td>4</td>\n",
       "      <td>1</td>\n",
       "      <td>shqoc6X1fcJRLEmx</td>\n",
       "      <td>2021-01-16</td>\n",
       "      <td>Word</td>\n",
       "      <td>Games</td>\n",
       "    </tr>\n",
       "    <tr>\n",
       "      <th>3</th>\n",
       "      <td>com.affinity.rewarded_play</td>\n",
       "      <td>Doesn't update play time. Just downloaded it 3...</td>\n",
       "      <td>1</td>\n",
       "      <td>1</td>\n",
       "      <td>shqoc6X1fcJRLEmx</td>\n",
       "      <td>2021-11-04</td>\n",
       "      <td>Entertainment</td>\n",
       "      <td>Entertainment</td>\n",
       "    </tr>\n",
       "    <tr>\n",
       "      <th>4</th>\n",
       "      <td>dating.inmessage.net</td>\n",
       "      <td>app crashes every time I try to log in. what g...</td>\n",
       "      <td>1</td>\n",
       "      <td>0</td>\n",
       "      <td>shqoc6X1fcJRLEmx</td>\n",
       "      <td>2021-11-24</td>\n",
       "      <td>Dating</td>\n",
       "      <td>Social</td>\n",
       "    </tr>\n",
       "  </tbody>\n",
       "</table>\n",
       "</div>"
      ],
      "text/plain": [
       "                  app_package  \\\n",
       "0       com.cleverapps.heroes   \n",
       "1                com.bodyfast   \n",
       "2  com.thrivegames.wordshapes   \n",
       "3  com.affinity.rewarded_play   \n",
       "4        dating.inmessage.net   \n",
       "\n",
       "                                              review  rating  votes  \\\n",
       "0                             It's really a fun game       5      1   \n",
       "1  uninstalling. it was ok but felt like it was c...       2      0   \n",
       "2                                     Love this game       4      1   \n",
       "3  Doesn't update play time. Just downloaded it 3...       1      1   \n",
       "4  app crashes every time I try to log in. what g...       1      0   \n",
       "\n",
       "                uid formated_date      app_category Category_Reduced  \n",
       "0  shqoc6X1fcJRLEmx    2018-10-21            Casual            Games  \n",
       "1  shqoc6X1fcJRLEmx    2019-01-18  Health & Fitness           Health  \n",
       "2  shqoc6X1fcJRLEmx    2021-01-16              Word            Games  \n",
       "3  shqoc6X1fcJRLEmx    2021-11-04     Entertainment    Entertainment  \n",
       "4  shqoc6X1fcJRLEmx    2021-11-24            Dating           Social  "
      ]
     },
     "execution_count": 23,
     "metadata": {},
     "output_type": "execute_result"
    }
   ],
   "source": [
    "mbr.head()"
   ]
  },
  {
   "cell_type": "code",
   "execution_count": 22,
   "id": "c5463894",
   "metadata": {},
   "outputs": [
    {
     "ename": "KeyError",
     "evalue": "'Translated_Review'",
     "output_type": "error",
     "traceback": [
      "\u001b[31m---------------------------------------------------------------------------\u001b[39m",
      "\u001b[31mKeyError\u001b[39m                                  Traceback (most recent call last)",
      "\u001b[36mCell\u001b[39m\u001b[36m \u001b[39m\u001b[32mIn[22]\u001b[39m\u001b[32m, line 6\u001b[39m\n\u001b[32m      3\u001b[39m \u001b[38;5;28;01mimport\u001b[39;00m\u001b[38;5;250m \u001b[39m\u001b[34;01mpandas\u001b[39;00m\u001b[38;5;250m \u001b[39m\u001b[38;5;28;01mas\u001b[39;00m\u001b[38;5;250m \u001b[39m\u001b[34;01mpd\u001b[39;00m\n\u001b[32m      5\u001b[39m \u001b[38;5;66;03m# Paso 1: Agrupar apps por 'Translated_Review' como si fuera un proxy de usuario\u001b[39;00m\n\u001b[32m----> \u001b[39m\u001b[32m6\u001b[39m agrupadas = \u001b[43mmbr\u001b[49m\u001b[43m.\u001b[49m\u001b[43mgroupby\u001b[49m\u001b[43m(\u001b[49m\u001b[33;43m'\u001b[39;49m\u001b[33;43mTranslated_Review\u001b[39;49m\u001b[33;43m'\u001b[39;49m\u001b[43m)\u001b[49m[\u001b[33m'\u001b[39m\u001b[33mApp\u001b[39m\u001b[33m'\u001b[39m].unique()\n\u001b[32m      8\u001b[39m \u001b[38;5;66;03m# Paso 2: Convertir a lista de listas\u001b[39;00m\n\u001b[32m      9\u001b[39m transacciones = agrupadas.tolist()\n",
      "\u001b[36mFile \u001b[39m\u001b[32m~\\AppData\\Local\\Packages\\PythonSoftwareFoundation.Python.3.11_qbz5n2kfra8p0\\LocalCache\\local-packages\\Python311\\site-packages\\pandas\\core\\frame.py:9183\u001b[39m, in \u001b[36mDataFrame.groupby\u001b[39m\u001b[34m(self, by, axis, level, as_index, sort, group_keys, observed, dropna)\u001b[39m\n\u001b[32m   9180\u001b[39m \u001b[38;5;28;01mif\u001b[39;00m level \u001b[38;5;129;01mis\u001b[39;00m \u001b[38;5;28;01mNone\u001b[39;00m \u001b[38;5;129;01mand\u001b[39;00m by \u001b[38;5;129;01mis\u001b[39;00m \u001b[38;5;28;01mNone\u001b[39;00m:\n\u001b[32m   9181\u001b[39m     \u001b[38;5;28;01mraise\u001b[39;00m \u001b[38;5;167;01mTypeError\u001b[39;00m(\u001b[33m\"\u001b[39m\u001b[33mYou have to supply one of \u001b[39m\u001b[33m'\u001b[39m\u001b[33mby\u001b[39m\u001b[33m'\u001b[39m\u001b[33m and \u001b[39m\u001b[33m'\u001b[39m\u001b[33mlevel\u001b[39m\u001b[33m'\u001b[39m\u001b[33m\"\u001b[39m)\n\u001b[32m-> \u001b[39m\u001b[32m9183\u001b[39m \u001b[38;5;28;01mreturn\u001b[39;00m \u001b[43mDataFrameGroupBy\u001b[49m\u001b[43m(\u001b[49m\n\u001b[32m   9184\u001b[39m \u001b[43m    \u001b[49m\u001b[43mobj\u001b[49m\u001b[43m=\u001b[49m\u001b[38;5;28;43mself\u001b[39;49m\u001b[43m,\u001b[49m\n\u001b[32m   9185\u001b[39m \u001b[43m    \u001b[49m\u001b[43mkeys\u001b[49m\u001b[43m=\u001b[49m\u001b[43mby\u001b[49m\u001b[43m,\u001b[49m\n\u001b[32m   9186\u001b[39m \u001b[43m    \u001b[49m\u001b[43maxis\u001b[49m\u001b[43m=\u001b[49m\u001b[43maxis\u001b[49m\u001b[43m,\u001b[49m\n\u001b[32m   9187\u001b[39m \u001b[43m    \u001b[49m\u001b[43mlevel\u001b[49m\u001b[43m=\u001b[49m\u001b[43mlevel\u001b[49m\u001b[43m,\u001b[49m\n\u001b[32m   9188\u001b[39m \u001b[43m    \u001b[49m\u001b[43mas_index\u001b[49m\u001b[43m=\u001b[49m\u001b[43mas_index\u001b[49m\u001b[43m,\u001b[49m\n\u001b[32m   9189\u001b[39m \u001b[43m    \u001b[49m\u001b[43msort\u001b[49m\u001b[43m=\u001b[49m\u001b[43msort\u001b[49m\u001b[43m,\u001b[49m\n\u001b[32m   9190\u001b[39m \u001b[43m    \u001b[49m\u001b[43mgroup_keys\u001b[49m\u001b[43m=\u001b[49m\u001b[43mgroup_keys\u001b[49m\u001b[43m,\u001b[49m\n\u001b[32m   9191\u001b[39m \u001b[43m    \u001b[49m\u001b[43mobserved\u001b[49m\u001b[43m=\u001b[49m\u001b[43mobserved\u001b[49m\u001b[43m,\u001b[49m\n\u001b[32m   9192\u001b[39m \u001b[43m    \u001b[49m\u001b[43mdropna\u001b[49m\u001b[43m=\u001b[49m\u001b[43mdropna\u001b[49m\u001b[43m,\u001b[49m\n\u001b[32m   9193\u001b[39m \u001b[43m\u001b[49m\u001b[43m)\u001b[49m\n",
      "\u001b[36mFile \u001b[39m\u001b[32m~\\AppData\\Local\\Packages\\PythonSoftwareFoundation.Python.3.11_qbz5n2kfra8p0\\LocalCache\\local-packages\\Python311\\site-packages\\pandas\\core\\groupby\\groupby.py:1329\u001b[39m, in \u001b[36mGroupBy.__init__\u001b[39m\u001b[34m(self, obj, keys, axis, level, grouper, exclusions, selection, as_index, sort, group_keys, observed, dropna)\u001b[39m\n\u001b[32m   1326\u001b[39m \u001b[38;5;28mself\u001b[39m.dropna = dropna\n\u001b[32m   1328\u001b[39m \u001b[38;5;28;01mif\u001b[39;00m grouper \u001b[38;5;129;01mis\u001b[39;00m \u001b[38;5;28;01mNone\u001b[39;00m:\n\u001b[32m-> \u001b[39m\u001b[32m1329\u001b[39m     grouper, exclusions, obj = \u001b[43mget_grouper\u001b[49m\u001b[43m(\u001b[49m\n\u001b[32m   1330\u001b[39m \u001b[43m        \u001b[49m\u001b[43mobj\u001b[49m\u001b[43m,\u001b[49m\n\u001b[32m   1331\u001b[39m \u001b[43m        \u001b[49m\u001b[43mkeys\u001b[49m\u001b[43m,\u001b[49m\n\u001b[32m   1332\u001b[39m \u001b[43m        \u001b[49m\u001b[43maxis\u001b[49m\u001b[43m=\u001b[49m\u001b[43maxis\u001b[49m\u001b[43m,\u001b[49m\n\u001b[32m   1333\u001b[39m \u001b[43m        \u001b[49m\u001b[43mlevel\u001b[49m\u001b[43m=\u001b[49m\u001b[43mlevel\u001b[49m\u001b[43m,\u001b[49m\n\u001b[32m   1334\u001b[39m \u001b[43m        \u001b[49m\u001b[43msort\u001b[49m\u001b[43m=\u001b[49m\u001b[43msort\u001b[49m\u001b[43m,\u001b[49m\n\u001b[32m   1335\u001b[39m \u001b[43m        \u001b[49m\u001b[43mobserved\u001b[49m\u001b[43m=\u001b[49m\u001b[38;5;28;43;01mFalse\u001b[39;49;00m\u001b[43m \u001b[49m\u001b[38;5;28;43;01mif\u001b[39;49;00m\u001b[43m \u001b[49m\u001b[43mobserved\u001b[49m\u001b[43m \u001b[49m\u001b[38;5;129;43;01mis\u001b[39;49;00m\u001b[43m \u001b[49m\u001b[43mlib\u001b[49m\u001b[43m.\u001b[49m\u001b[43mno_default\u001b[49m\u001b[43m \u001b[49m\u001b[38;5;28;43;01melse\u001b[39;49;00m\u001b[43m \u001b[49m\u001b[43mobserved\u001b[49m\u001b[43m,\u001b[49m\n\u001b[32m   1336\u001b[39m \u001b[43m        \u001b[49m\u001b[43mdropna\u001b[49m\u001b[43m=\u001b[49m\u001b[38;5;28;43mself\u001b[39;49m\u001b[43m.\u001b[49m\u001b[43mdropna\u001b[49m\u001b[43m,\u001b[49m\n\u001b[32m   1337\u001b[39m \u001b[43m    \u001b[49m\u001b[43m)\u001b[49m\n\u001b[32m   1339\u001b[39m \u001b[38;5;28;01mif\u001b[39;00m observed \u001b[38;5;129;01mis\u001b[39;00m lib.no_default:\n\u001b[32m   1340\u001b[39m     \u001b[38;5;28;01mif\u001b[39;00m \u001b[38;5;28many\u001b[39m(ping._passed_categorical \u001b[38;5;28;01mfor\u001b[39;00m ping \u001b[38;5;129;01min\u001b[39;00m grouper.groupings):\n",
      "\u001b[36mFile \u001b[39m\u001b[32m~\\AppData\\Local\\Packages\\PythonSoftwareFoundation.Python.3.11_qbz5n2kfra8p0\\LocalCache\\local-packages\\Python311\\site-packages\\pandas\\core\\groupby\\grouper.py:1043\u001b[39m, in \u001b[36mget_grouper\u001b[39m\u001b[34m(obj, key, axis, level, sort, observed, validate, dropna)\u001b[39m\n\u001b[32m   1041\u001b[39m         in_axis, level, gpr = \u001b[38;5;28;01mFalse\u001b[39;00m, gpr, \u001b[38;5;28;01mNone\u001b[39;00m\n\u001b[32m   1042\u001b[39m     \u001b[38;5;28;01melse\u001b[39;00m:\n\u001b[32m-> \u001b[39m\u001b[32m1043\u001b[39m         \u001b[38;5;28;01mraise\u001b[39;00m \u001b[38;5;167;01mKeyError\u001b[39;00m(gpr)\n\u001b[32m   1044\u001b[39m \u001b[38;5;28;01melif\u001b[39;00m \u001b[38;5;28misinstance\u001b[39m(gpr, Grouper) \u001b[38;5;129;01mand\u001b[39;00m gpr.key \u001b[38;5;129;01mis\u001b[39;00m \u001b[38;5;129;01mnot\u001b[39;00m \u001b[38;5;28;01mNone\u001b[39;00m:\n\u001b[32m   1045\u001b[39m     \u001b[38;5;66;03m# Add key to exclusions\u001b[39;00m\n\u001b[32m   1046\u001b[39m     exclusions.add(gpr.key)\n",
      "\u001b[31mKeyError\u001b[39m: 'Translated_Review'"
     ]
    }
   ],
   "source": [
    "from mlxtend.frequent_patterns import apriori, association_rules\n",
    "from mlxtend.preprocessing import TransactionEncoder\n",
    "import pandas as pd\n",
    "\n",
    "# Paso 1: Agrupar apps por 'Translated_Review' como si fuera un proxy de usuario\n",
    "agrupadas = mbr.groupby('Translated_Review')['App'].unique()\n",
    "\n",
    "# Paso 2: Convertir a lista de listas\n",
    "transacciones = agrupadas.tolist()\n",
    "\n",
    "# Paso 3: Transformar a formato binario para Apriori\n",
    "te = TransactionEncoder()\n",
    "te_ary = te.fit(transacciones).transform(transacciones)\n",
    "df_apriori = pd.DataFrame(te_ary, columns=te.columns_)\n",
    "\n",
    "# Paso 4: Aplicar Apriori\n",
    "frequent_itemsets = apriori(df_apriori, min_support=0.005, use_colnames=True)\n",
    "print(frequent_itemsets.head())\n",
    "\n",
    "# Paso 5: Reglas de asociación\n",
    "reglas = association_rules(frequent_itemsets, metric=\"lift\", min_threshold=1.1)\n",
    "\n",
    "# Mostrar reglas más fuertes\n",
    "reglas_ordenadas = reglas.sort_values(by=\"lift\", ascending=False)\n"
   ]
  },
  {
   "cell_type": "markdown",
   "id": "3ca58f22",
   "metadata": {},
   "source": [
    "# Pregunta 2:  ¿Influye el rating de las aplicaciones con las descargas de estas? Porque esto ayuda al entendimiento de la confianza digital y las decisiones de descargas de los usuarios.\n"
   ]
  },
  {
   "cell_type": "markdown",
   "id": "79a4b4ec",
   "metadata": {},
   "source": [
    "clustering y correlacion y "
   ]
  }
 ],
 "metadata": {
  "kernelspec": {
   "display_name": "Python 3",
   "language": "python",
   "name": "python3"
  },
  "language_info": {
   "codemirror_mode": {
    "name": "ipython",
    "version": 3
   },
   "file_extension": ".py",
   "mimetype": "text/x-python",
   "name": "python",
   "nbconvert_exporter": "python",
   "pygments_lexer": "ipython3",
   "version": "3.11.9"
  }
 },
 "nbformat": 4,
 "nbformat_minor": 5
}
